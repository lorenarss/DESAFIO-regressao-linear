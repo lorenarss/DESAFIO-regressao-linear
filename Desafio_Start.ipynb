{
  "nbformat": 4,
  "nbformat_minor": 0,
  "metadata": {
    "colab": {
      "provenance": []
    },
    "kernelspec": {
      "name": "python3",
      "display_name": "Python 3"
    },
    "language_info": {
      "name": "python"
    }
  },
  "cells": [
    {
      "cell_type": "markdown",
      "source": [
        "# ***DESAFIO START - REGRESSÃO LINEAR***"
      ],
      "metadata": {
        "id": "STYb4Qjh7AP_"
      }
    },
    {
      "cell_type": "markdown",
      "source": [
        "## Apresentação de desafio onde é necessário gerar modelos de regressão linear simples e múltpla, com objetivo de prever as vendas de casas. Deve ser avaliado também pontuação de cada modelo."
      ],
      "metadata": {
        "id": "yh4xY-EO7NJC"
      }
    },
    {
      "cell_type": "markdown",
      "source": [
        "Dupla\n",
        "\n",
        "Alisson Rafael - \n",
        "\n",
        "Lorena Silva - \n"
      ],
      "metadata": {
        "id": "bqAAsgOV78IC"
      }
    },
    {
      "cell_type": "code",
      "execution_count": null,
      "metadata": {
        "id": "nj0xiUGnOKmy"
      },
      "outputs": [],
      "source": [
        "#Importação das bibliotecas de uso durante a atividade.\n",
        "\n",
        "import pandas as pd\n",
        "import numpy as np\n",
        "import seaborn as sns\n",
        "import matplotlib.pyplot as plt\n",
        "import plotly.express as px\n",
        "import plotly.graph_objects as go\n",
        "from sklearn import metrics"
      ]
    },
    {
      "cell_type": "code",
      "source": [
        "#Base de dados.\n",
        "\n",
        "b_casas = pd.read_csv('/content/sample_data/Housing.csv')"
      ],
      "metadata": {
        "id": "ACNNaZ--Omdc"
      },
      "execution_count": null,
      "outputs": []
    },
    {
      "cell_type": "code",
      "source": [
        "b_casas"
      ],
      "metadata": {
        "colab": {
          "base_uri": "https://localhost:8080/",
          "height": 424
        },
        "id": "g3pgckRRtlIB",
        "outputId": "f7e3c805-758c-4535-ae5d-21ee7c234396"
      },
      "execution_count": null,
      "outputs": [
        {
          "output_type": "execute_result",
          "data": {
            "text/plain": [
              "        price  area  bedrooms  bathrooms  stories mainroad guestroom basement  \\\n",
              "0    13300000  7420         4          2        3      yes        no       no   \n",
              "1    12250000  8960         4          4        4      yes        no       no   \n",
              "2    12250000  9960         3          2        2      yes        no      yes   \n",
              "3    12215000  7500         4          2        2      yes        no      yes   \n",
              "4    11410000  7420         4          1        2      yes       yes      yes   \n",
              "..        ...   ...       ...        ...      ...      ...       ...      ...   \n",
              "540   1820000  3000         2          1        1      yes        no      yes   \n",
              "541   1767150  2400         3          1        1       no        no       no   \n",
              "542   1750000  3620         2          1        1      yes        no       no   \n",
              "543   1750000  2910         3          1        1       no        no       no   \n",
              "544   1750000  3850         3          1        2      yes        no       no   \n",
              "\n",
              "    hotwaterheating airconditioning  parking prefarea furnishingstatus  \n",
              "0                no             yes        2      yes        furnished  \n",
              "1                no             yes        3       no        furnished  \n",
              "2                no              no        2      yes   semi-furnished  \n",
              "3                no             yes        3      yes        furnished  \n",
              "4                no             yes        2       no        furnished  \n",
              "..              ...             ...      ...      ...              ...  \n",
              "540              no              no        2       no      unfurnished  \n",
              "541              no              no        0       no   semi-furnished  \n",
              "542              no              no        0       no      unfurnished  \n",
              "543              no              no        0       no        furnished  \n",
              "544              no              no        0       no      unfurnished  \n",
              "\n",
              "[545 rows x 13 columns]"
            ],
            "text/html": [
              "\n",
              "  <div id=\"df-ed89c9a1-fd4d-4304-bfca-b537a2ce5f0a\">\n",
              "    <div class=\"colab-df-container\">\n",
              "      <div>\n",
              "<style scoped>\n",
              "    .dataframe tbody tr th:only-of-type {\n",
              "        vertical-align: middle;\n",
              "    }\n",
              "\n",
              "    .dataframe tbody tr th {\n",
              "        vertical-align: top;\n",
              "    }\n",
              "\n",
              "    .dataframe thead th {\n",
              "        text-align: right;\n",
              "    }\n",
              "</style>\n",
              "<table border=\"1\" class=\"dataframe\">\n",
              "  <thead>\n",
              "    <tr style=\"text-align: right;\">\n",
              "      <th></th>\n",
              "      <th>price</th>\n",
              "      <th>area</th>\n",
              "      <th>bedrooms</th>\n",
              "      <th>bathrooms</th>\n",
              "      <th>stories</th>\n",
              "      <th>mainroad</th>\n",
              "      <th>guestroom</th>\n",
              "      <th>basement</th>\n",
              "      <th>hotwaterheating</th>\n",
              "      <th>airconditioning</th>\n",
              "      <th>parking</th>\n",
              "      <th>prefarea</th>\n",
              "      <th>furnishingstatus</th>\n",
              "    </tr>\n",
              "  </thead>\n",
              "  <tbody>\n",
              "    <tr>\n",
              "      <th>0</th>\n",
              "      <td>13300000</td>\n",
              "      <td>7420</td>\n",
              "      <td>4</td>\n",
              "      <td>2</td>\n",
              "      <td>3</td>\n",
              "      <td>yes</td>\n",
              "      <td>no</td>\n",
              "      <td>no</td>\n",
              "      <td>no</td>\n",
              "      <td>yes</td>\n",
              "      <td>2</td>\n",
              "      <td>yes</td>\n",
              "      <td>furnished</td>\n",
              "    </tr>\n",
              "    <tr>\n",
              "      <th>1</th>\n",
              "      <td>12250000</td>\n",
              "      <td>8960</td>\n",
              "      <td>4</td>\n",
              "      <td>4</td>\n",
              "      <td>4</td>\n",
              "      <td>yes</td>\n",
              "      <td>no</td>\n",
              "      <td>no</td>\n",
              "      <td>no</td>\n",
              "      <td>yes</td>\n",
              "      <td>3</td>\n",
              "      <td>no</td>\n",
              "      <td>furnished</td>\n",
              "    </tr>\n",
              "    <tr>\n",
              "      <th>2</th>\n",
              "      <td>12250000</td>\n",
              "      <td>9960</td>\n",
              "      <td>3</td>\n",
              "      <td>2</td>\n",
              "      <td>2</td>\n",
              "      <td>yes</td>\n",
              "      <td>no</td>\n",
              "      <td>yes</td>\n",
              "      <td>no</td>\n",
              "      <td>no</td>\n",
              "      <td>2</td>\n",
              "      <td>yes</td>\n",
              "      <td>semi-furnished</td>\n",
              "    </tr>\n",
              "    <tr>\n",
              "      <th>3</th>\n",
              "      <td>12215000</td>\n",
              "      <td>7500</td>\n",
              "      <td>4</td>\n",
              "      <td>2</td>\n",
              "      <td>2</td>\n",
              "      <td>yes</td>\n",
              "      <td>no</td>\n",
              "      <td>yes</td>\n",
              "      <td>no</td>\n",
              "      <td>yes</td>\n",
              "      <td>3</td>\n",
              "      <td>yes</td>\n",
              "      <td>furnished</td>\n",
              "    </tr>\n",
              "    <tr>\n",
              "      <th>4</th>\n",
              "      <td>11410000</td>\n",
              "      <td>7420</td>\n",
              "      <td>4</td>\n",
              "      <td>1</td>\n",
              "      <td>2</td>\n",
              "      <td>yes</td>\n",
              "      <td>yes</td>\n",
              "      <td>yes</td>\n",
              "      <td>no</td>\n",
              "      <td>yes</td>\n",
              "      <td>2</td>\n",
              "      <td>no</td>\n",
              "      <td>furnished</td>\n",
              "    </tr>\n",
              "    <tr>\n",
              "      <th>...</th>\n",
              "      <td>...</td>\n",
              "      <td>...</td>\n",
              "      <td>...</td>\n",
              "      <td>...</td>\n",
              "      <td>...</td>\n",
              "      <td>...</td>\n",
              "      <td>...</td>\n",
              "      <td>...</td>\n",
              "      <td>...</td>\n",
              "      <td>...</td>\n",
              "      <td>...</td>\n",
              "      <td>...</td>\n",
              "      <td>...</td>\n",
              "    </tr>\n",
              "    <tr>\n",
              "      <th>540</th>\n",
              "      <td>1820000</td>\n",
              "      <td>3000</td>\n",
              "      <td>2</td>\n",
              "      <td>1</td>\n",
              "      <td>1</td>\n",
              "      <td>yes</td>\n",
              "      <td>no</td>\n",
              "      <td>yes</td>\n",
              "      <td>no</td>\n",
              "      <td>no</td>\n",
              "      <td>2</td>\n",
              "      <td>no</td>\n",
              "      <td>unfurnished</td>\n",
              "    </tr>\n",
              "    <tr>\n",
              "      <th>541</th>\n",
              "      <td>1767150</td>\n",
              "      <td>2400</td>\n",
              "      <td>3</td>\n",
              "      <td>1</td>\n",
              "      <td>1</td>\n",
              "      <td>no</td>\n",
              "      <td>no</td>\n",
              "      <td>no</td>\n",
              "      <td>no</td>\n",
              "      <td>no</td>\n",
              "      <td>0</td>\n",
              "      <td>no</td>\n",
              "      <td>semi-furnished</td>\n",
              "    </tr>\n",
              "    <tr>\n",
              "      <th>542</th>\n",
              "      <td>1750000</td>\n",
              "      <td>3620</td>\n",
              "      <td>2</td>\n",
              "      <td>1</td>\n",
              "      <td>1</td>\n",
              "      <td>yes</td>\n",
              "      <td>no</td>\n",
              "      <td>no</td>\n",
              "      <td>no</td>\n",
              "      <td>no</td>\n",
              "      <td>0</td>\n",
              "      <td>no</td>\n",
              "      <td>unfurnished</td>\n",
              "    </tr>\n",
              "    <tr>\n",
              "      <th>543</th>\n",
              "      <td>1750000</td>\n",
              "      <td>2910</td>\n",
              "      <td>3</td>\n",
              "      <td>1</td>\n",
              "      <td>1</td>\n",
              "      <td>no</td>\n",
              "      <td>no</td>\n",
              "      <td>no</td>\n",
              "      <td>no</td>\n",
              "      <td>no</td>\n",
              "      <td>0</td>\n",
              "      <td>no</td>\n",
              "      <td>furnished</td>\n",
              "    </tr>\n",
              "    <tr>\n",
              "      <th>544</th>\n",
              "      <td>1750000</td>\n",
              "      <td>3850</td>\n",
              "      <td>3</td>\n",
              "      <td>1</td>\n",
              "      <td>2</td>\n",
              "      <td>yes</td>\n",
              "      <td>no</td>\n",
              "      <td>no</td>\n",
              "      <td>no</td>\n",
              "      <td>no</td>\n",
              "      <td>0</td>\n",
              "      <td>no</td>\n",
              "      <td>unfurnished</td>\n",
              "    </tr>\n",
              "  </tbody>\n",
              "</table>\n",
              "<p>545 rows × 13 columns</p>\n",
              "</div>\n",
              "      <button class=\"colab-df-convert\" onclick=\"convertToInteractive('df-ed89c9a1-fd4d-4304-bfca-b537a2ce5f0a')\"\n",
              "              title=\"Convert this dataframe to an interactive table.\"\n",
              "              style=\"display:none;\">\n",
              "        \n",
              "  <svg xmlns=\"http://www.w3.org/2000/svg\" height=\"24px\"viewBox=\"0 0 24 24\"\n",
              "       width=\"24px\">\n",
              "    <path d=\"M0 0h24v24H0V0z\" fill=\"none\"/>\n",
              "    <path d=\"M18.56 5.44l.94 2.06.94-2.06 2.06-.94-2.06-.94-.94-2.06-.94 2.06-2.06.94zm-11 1L8.5 8.5l.94-2.06 2.06-.94-2.06-.94L8.5 2.5l-.94 2.06-2.06.94zm10 10l.94 2.06.94-2.06 2.06-.94-2.06-.94-.94-2.06-.94 2.06-2.06.94z\"/><path d=\"M17.41 7.96l-1.37-1.37c-.4-.4-.92-.59-1.43-.59-.52 0-1.04.2-1.43.59L10.3 9.45l-7.72 7.72c-.78.78-.78 2.05 0 2.83L4 21.41c.39.39.9.59 1.41.59.51 0 1.02-.2 1.41-.59l7.78-7.78 2.81-2.81c.8-.78.8-2.07 0-2.86zM5.41 20L4 18.59l7.72-7.72 1.47 1.35L5.41 20z\"/>\n",
              "  </svg>\n",
              "      </button>\n",
              "      \n",
              "  <style>\n",
              "    .colab-df-container {\n",
              "      display:flex;\n",
              "      flex-wrap:wrap;\n",
              "      gap: 12px;\n",
              "    }\n",
              "\n",
              "    .colab-df-convert {\n",
              "      background-color: #E8F0FE;\n",
              "      border: none;\n",
              "      border-radius: 50%;\n",
              "      cursor: pointer;\n",
              "      display: none;\n",
              "      fill: #1967D2;\n",
              "      height: 32px;\n",
              "      padding: 0 0 0 0;\n",
              "      width: 32px;\n",
              "    }\n",
              "\n",
              "    .colab-df-convert:hover {\n",
              "      background-color: #E2EBFA;\n",
              "      box-shadow: 0px 1px 2px rgba(60, 64, 67, 0.3), 0px 1px 3px 1px rgba(60, 64, 67, 0.15);\n",
              "      fill: #174EA6;\n",
              "    }\n",
              "\n",
              "    [theme=dark] .colab-df-convert {\n",
              "      background-color: #3B4455;\n",
              "      fill: #D2E3FC;\n",
              "    }\n",
              "\n",
              "    [theme=dark] .colab-df-convert:hover {\n",
              "      background-color: #434B5C;\n",
              "      box-shadow: 0px 1px 3px 1px rgba(0, 0, 0, 0.15);\n",
              "      filter: drop-shadow(0px 1px 2px rgba(0, 0, 0, 0.3));\n",
              "      fill: #FFFFFF;\n",
              "    }\n",
              "  </style>\n",
              "\n",
              "      <script>\n",
              "        const buttonEl =\n",
              "          document.querySelector('#df-ed89c9a1-fd4d-4304-bfca-b537a2ce5f0a button.colab-df-convert');\n",
              "        buttonEl.style.display =\n",
              "          google.colab.kernel.accessAllowed ? 'block' : 'none';\n",
              "\n",
              "        async function convertToInteractive(key) {\n",
              "          const element = document.querySelector('#df-ed89c9a1-fd4d-4304-bfca-b537a2ce5f0a');\n",
              "          const dataTable =\n",
              "            await google.colab.kernel.invokeFunction('convertToInteractive',\n",
              "                                                     [key], {});\n",
              "          if (!dataTable) return;\n",
              "\n",
              "          const docLinkHtml = 'Like what you see? Visit the ' +\n",
              "            '<a target=\"_blank\" href=https://colab.research.google.com/notebooks/data_table.ipynb>data table notebook</a>'\n",
              "            + ' to learn more about interactive tables.';\n",
              "          element.innerHTML = '';\n",
              "          dataTable['output_type'] = 'display_data';\n",
              "          await google.colab.output.renderOutput(dataTable, element);\n",
              "          const docLink = document.createElement('div');\n",
              "          docLink.innerHTML = docLinkHtml;\n",
              "          element.appendChild(docLink);\n",
              "        }\n",
              "      </script>\n",
              "    </div>\n",
              "  </div>\n",
              "  "
            ]
          },
          "metadata": {},
          "execution_count": 5
        }
      ]
    },
    {
      "cell_type": "code",
      "source": [
        "#mudandos os valores 'yes' = 1 e 'no'= 0 & furnishingstatus '0, 1, e 2 '.\n",
        "\n",
        "b_casas.loc[b_casas.mainroad == 'yes','mainroad']= 1\n",
        "b_casas.loc[b_casas.mainroad == 'no','mainroad']= 0\n",
        "b_casas.loc[b_casas.guestroom == 'yes','guestroom']= 1\n",
        "b_casas.loc[b_casas.guestroom == 'no','guestroom']= 0\n",
        "b_casas.loc[b_casas.basement == 'yes','basement']= 1\n",
        "b_casas.loc[b_casas.basement == 'no','basement']= 0\n",
        "b_casas.loc[b_casas.hotwaterheating == 'yes','hotwaterheating']= 1\n",
        "b_casas.loc[b_casas.hotwaterheating == 'no','hotwaterheating']= 0\n",
        "b_casas.loc[b_casas.airconditioning == 'yes','airconditioning']= 1\n",
        "b_casas.loc[b_casas.airconditioning == 'no','airconditioning']= 0\n",
        "b_casas.loc[b_casas.prefarea == 'yes','prefarea']= 1\n",
        "b_casas.loc[b_casas.prefarea == 'no','prefarea']= 0\n",
        "b_casas.loc[b_casas.furnishingstatus == 'semi-furnished','furnishingstatus']= 2\n",
        "b_casas.loc[b_casas.furnishingstatus == 'furnished','furnishingstatus']= 1\n",
        "b_casas.loc[b_casas.furnishingstatus == 'unfurnished','furnishingstatus']= 0"
      ],
      "metadata": {
        "id": "RNnzsBPbS-wp"
      },
      "execution_count": null,
      "outputs": []
    },
    {
      "cell_type": "code",
      "source": [
        "#Trocando os tipos de dados da base em uma nova variável.\n",
        "\n",
        "b_casas1 = b_casas.astype({\n",
        "    'mainroad':int,\n",
        "    'guestroom':int,\n",
        "    'basement':int,\n",
        "    'hotwaterheating':int,\n",
        "    'airconditioning':int,\n",
        "    'prefarea':int,\n",
        "    'furnishingstatus':int\n",
        "})"
      ],
      "metadata": {
        "id": "JfmGMp1Z8pMM"
      },
      "execution_count": null,
      "outputs": []
    },
    {
      "cell_type": "code",
      "source": [
        "#Base com tipos alterados.\n",
        "\n",
        "b_casas1"
      ],
      "metadata": {
        "id": "OsEkPWi6hhPo",
        "colab": {
          "base_uri": "https://localhost:8080/",
          "height": 488
        },
        "outputId": "930dff7c-c3e7-4ff0-ffc4-8d1efdde7c19"
      },
      "execution_count": null,
      "outputs": [
        {
          "output_type": "execute_result",
          "data": {
            "text/plain": [
              "        price  area  bedrooms  bathrooms  stories  mainroad  guestroom  \\\n",
              "0    13300000  7420         4          2        3         1          0   \n",
              "1    12250000  8960         4          4        4         1          0   \n",
              "2    12250000  9960         3          2        2         1          0   \n",
              "3    12215000  7500         4          2        2         1          0   \n",
              "4    11410000  7420         4          1        2         1          1   \n",
              "..        ...   ...       ...        ...      ...       ...        ...   \n",
              "540   1820000  3000         2          1        1         1          0   \n",
              "541   1767150  2400         3          1        1         0          0   \n",
              "542   1750000  3620         2          1        1         1          0   \n",
              "543   1750000  2910         3          1        1         0          0   \n",
              "544   1750000  3850         3          1        2         1          0   \n",
              "\n",
              "     basement  hotwaterheating  airconditioning  parking  prefarea  \\\n",
              "0           0                0                1        2         1   \n",
              "1           0                0                1        3         0   \n",
              "2           1                0                0        2         1   \n",
              "3           1                0                1        3         1   \n",
              "4           1                0                1        2         0   \n",
              "..        ...              ...              ...      ...       ...   \n",
              "540         1                0                0        2         0   \n",
              "541         0                0                0        0         0   \n",
              "542         0                0                0        0         0   \n",
              "543         0                0                0        0         0   \n",
              "544         0                0                0        0         0   \n",
              "\n",
              "     furnishingstatus  \n",
              "0                   1  \n",
              "1                   1  \n",
              "2                   2  \n",
              "3                   1  \n",
              "4                   1  \n",
              "..                ...  \n",
              "540                 0  \n",
              "541                 2  \n",
              "542                 0  \n",
              "543                 1  \n",
              "544                 0  \n",
              "\n",
              "[545 rows x 13 columns]"
            ],
            "text/html": [
              "\n",
              "  <div id=\"df-6bd9f889-c1a2-4328-98f6-16f2ec50c772\">\n",
              "    <div class=\"colab-df-container\">\n",
              "      <div>\n",
              "<style scoped>\n",
              "    .dataframe tbody tr th:only-of-type {\n",
              "        vertical-align: middle;\n",
              "    }\n",
              "\n",
              "    .dataframe tbody tr th {\n",
              "        vertical-align: top;\n",
              "    }\n",
              "\n",
              "    .dataframe thead th {\n",
              "        text-align: right;\n",
              "    }\n",
              "</style>\n",
              "<table border=\"1\" class=\"dataframe\">\n",
              "  <thead>\n",
              "    <tr style=\"text-align: right;\">\n",
              "      <th></th>\n",
              "      <th>price</th>\n",
              "      <th>area</th>\n",
              "      <th>bedrooms</th>\n",
              "      <th>bathrooms</th>\n",
              "      <th>stories</th>\n",
              "      <th>mainroad</th>\n",
              "      <th>guestroom</th>\n",
              "      <th>basement</th>\n",
              "      <th>hotwaterheating</th>\n",
              "      <th>airconditioning</th>\n",
              "      <th>parking</th>\n",
              "      <th>prefarea</th>\n",
              "      <th>furnishingstatus</th>\n",
              "    </tr>\n",
              "  </thead>\n",
              "  <tbody>\n",
              "    <tr>\n",
              "      <th>0</th>\n",
              "      <td>13300000</td>\n",
              "      <td>7420</td>\n",
              "      <td>4</td>\n",
              "      <td>2</td>\n",
              "      <td>3</td>\n",
              "      <td>1</td>\n",
              "      <td>0</td>\n",
              "      <td>0</td>\n",
              "      <td>0</td>\n",
              "      <td>1</td>\n",
              "      <td>2</td>\n",
              "      <td>1</td>\n",
              "      <td>1</td>\n",
              "    </tr>\n",
              "    <tr>\n",
              "      <th>1</th>\n",
              "      <td>12250000</td>\n",
              "      <td>8960</td>\n",
              "      <td>4</td>\n",
              "      <td>4</td>\n",
              "      <td>4</td>\n",
              "      <td>1</td>\n",
              "      <td>0</td>\n",
              "      <td>0</td>\n",
              "      <td>0</td>\n",
              "      <td>1</td>\n",
              "      <td>3</td>\n",
              "      <td>0</td>\n",
              "      <td>1</td>\n",
              "    </tr>\n",
              "    <tr>\n",
              "      <th>2</th>\n",
              "      <td>12250000</td>\n",
              "      <td>9960</td>\n",
              "      <td>3</td>\n",
              "      <td>2</td>\n",
              "      <td>2</td>\n",
              "      <td>1</td>\n",
              "      <td>0</td>\n",
              "      <td>1</td>\n",
              "      <td>0</td>\n",
              "      <td>0</td>\n",
              "      <td>2</td>\n",
              "      <td>1</td>\n",
              "      <td>2</td>\n",
              "    </tr>\n",
              "    <tr>\n",
              "      <th>3</th>\n",
              "      <td>12215000</td>\n",
              "      <td>7500</td>\n",
              "      <td>4</td>\n",
              "      <td>2</td>\n",
              "      <td>2</td>\n",
              "      <td>1</td>\n",
              "      <td>0</td>\n",
              "      <td>1</td>\n",
              "      <td>0</td>\n",
              "      <td>1</td>\n",
              "      <td>3</td>\n",
              "      <td>1</td>\n",
              "      <td>1</td>\n",
              "    </tr>\n",
              "    <tr>\n",
              "      <th>4</th>\n",
              "      <td>11410000</td>\n",
              "      <td>7420</td>\n",
              "      <td>4</td>\n",
              "      <td>1</td>\n",
              "      <td>2</td>\n",
              "      <td>1</td>\n",
              "      <td>1</td>\n",
              "      <td>1</td>\n",
              "      <td>0</td>\n",
              "      <td>1</td>\n",
              "      <td>2</td>\n",
              "      <td>0</td>\n",
              "      <td>1</td>\n",
              "    </tr>\n",
              "    <tr>\n",
              "      <th>...</th>\n",
              "      <td>...</td>\n",
              "      <td>...</td>\n",
              "      <td>...</td>\n",
              "      <td>...</td>\n",
              "      <td>...</td>\n",
              "      <td>...</td>\n",
              "      <td>...</td>\n",
              "      <td>...</td>\n",
              "      <td>...</td>\n",
              "      <td>...</td>\n",
              "      <td>...</td>\n",
              "      <td>...</td>\n",
              "      <td>...</td>\n",
              "    </tr>\n",
              "    <tr>\n",
              "      <th>540</th>\n",
              "      <td>1820000</td>\n",
              "      <td>3000</td>\n",
              "      <td>2</td>\n",
              "      <td>1</td>\n",
              "      <td>1</td>\n",
              "      <td>1</td>\n",
              "      <td>0</td>\n",
              "      <td>1</td>\n",
              "      <td>0</td>\n",
              "      <td>0</td>\n",
              "      <td>2</td>\n",
              "      <td>0</td>\n",
              "      <td>0</td>\n",
              "    </tr>\n",
              "    <tr>\n",
              "      <th>541</th>\n",
              "      <td>1767150</td>\n",
              "      <td>2400</td>\n",
              "      <td>3</td>\n",
              "      <td>1</td>\n",
              "      <td>1</td>\n",
              "      <td>0</td>\n",
              "      <td>0</td>\n",
              "      <td>0</td>\n",
              "      <td>0</td>\n",
              "      <td>0</td>\n",
              "      <td>0</td>\n",
              "      <td>0</td>\n",
              "      <td>2</td>\n",
              "    </tr>\n",
              "    <tr>\n",
              "      <th>542</th>\n",
              "      <td>1750000</td>\n",
              "      <td>3620</td>\n",
              "      <td>2</td>\n",
              "      <td>1</td>\n",
              "      <td>1</td>\n",
              "      <td>1</td>\n",
              "      <td>0</td>\n",
              "      <td>0</td>\n",
              "      <td>0</td>\n",
              "      <td>0</td>\n",
              "      <td>0</td>\n",
              "      <td>0</td>\n",
              "      <td>0</td>\n",
              "    </tr>\n",
              "    <tr>\n",
              "      <th>543</th>\n",
              "      <td>1750000</td>\n",
              "      <td>2910</td>\n",
              "      <td>3</td>\n",
              "      <td>1</td>\n",
              "      <td>1</td>\n",
              "      <td>0</td>\n",
              "      <td>0</td>\n",
              "      <td>0</td>\n",
              "      <td>0</td>\n",
              "      <td>0</td>\n",
              "      <td>0</td>\n",
              "      <td>0</td>\n",
              "      <td>1</td>\n",
              "    </tr>\n",
              "    <tr>\n",
              "      <th>544</th>\n",
              "      <td>1750000</td>\n",
              "      <td>3850</td>\n",
              "      <td>3</td>\n",
              "      <td>1</td>\n",
              "      <td>2</td>\n",
              "      <td>1</td>\n",
              "      <td>0</td>\n",
              "      <td>0</td>\n",
              "      <td>0</td>\n",
              "      <td>0</td>\n",
              "      <td>0</td>\n",
              "      <td>0</td>\n",
              "      <td>0</td>\n",
              "    </tr>\n",
              "  </tbody>\n",
              "</table>\n",
              "<p>545 rows × 13 columns</p>\n",
              "</div>\n",
              "      <button class=\"colab-df-convert\" onclick=\"convertToInteractive('df-6bd9f889-c1a2-4328-98f6-16f2ec50c772')\"\n",
              "              title=\"Convert this dataframe to an interactive table.\"\n",
              "              style=\"display:none;\">\n",
              "        \n",
              "  <svg xmlns=\"http://www.w3.org/2000/svg\" height=\"24px\"viewBox=\"0 0 24 24\"\n",
              "       width=\"24px\">\n",
              "    <path d=\"M0 0h24v24H0V0z\" fill=\"none\"/>\n",
              "    <path d=\"M18.56 5.44l.94 2.06.94-2.06 2.06-.94-2.06-.94-.94-2.06-.94 2.06-2.06.94zm-11 1L8.5 8.5l.94-2.06 2.06-.94-2.06-.94L8.5 2.5l-.94 2.06-2.06.94zm10 10l.94 2.06.94-2.06 2.06-.94-2.06-.94-.94-2.06-.94 2.06-2.06.94z\"/><path d=\"M17.41 7.96l-1.37-1.37c-.4-.4-.92-.59-1.43-.59-.52 0-1.04.2-1.43.59L10.3 9.45l-7.72 7.72c-.78.78-.78 2.05 0 2.83L4 21.41c.39.39.9.59 1.41.59.51 0 1.02-.2 1.41-.59l7.78-7.78 2.81-2.81c.8-.78.8-2.07 0-2.86zM5.41 20L4 18.59l7.72-7.72 1.47 1.35L5.41 20z\"/>\n",
              "  </svg>\n",
              "      </button>\n",
              "      \n",
              "  <style>\n",
              "    .colab-df-container {\n",
              "      display:flex;\n",
              "      flex-wrap:wrap;\n",
              "      gap: 12px;\n",
              "    }\n",
              "\n",
              "    .colab-df-convert {\n",
              "      background-color: #E8F0FE;\n",
              "      border: none;\n",
              "      border-radius: 50%;\n",
              "      cursor: pointer;\n",
              "      display: none;\n",
              "      fill: #1967D2;\n",
              "      height: 32px;\n",
              "      padding: 0 0 0 0;\n",
              "      width: 32px;\n",
              "    }\n",
              "\n",
              "    .colab-df-convert:hover {\n",
              "      background-color: #E2EBFA;\n",
              "      box-shadow: 0px 1px 2px rgba(60, 64, 67, 0.3), 0px 1px 3px 1px rgba(60, 64, 67, 0.15);\n",
              "      fill: #174EA6;\n",
              "    }\n",
              "\n",
              "    [theme=dark] .colab-df-convert {\n",
              "      background-color: #3B4455;\n",
              "      fill: #D2E3FC;\n",
              "    }\n",
              "\n",
              "    [theme=dark] .colab-df-convert:hover {\n",
              "      background-color: #434B5C;\n",
              "      box-shadow: 0px 1px 3px 1px rgba(0, 0, 0, 0.15);\n",
              "      filter: drop-shadow(0px 1px 2px rgba(0, 0, 0, 0.3));\n",
              "      fill: #FFFFFF;\n",
              "    }\n",
              "  </style>\n",
              "\n",
              "      <script>\n",
              "        const buttonEl =\n",
              "          document.querySelector('#df-6bd9f889-c1a2-4328-98f6-16f2ec50c772 button.colab-df-convert');\n",
              "        buttonEl.style.display =\n",
              "          google.colab.kernel.accessAllowed ? 'block' : 'none';\n",
              "\n",
              "        async function convertToInteractive(key) {\n",
              "          const element = document.querySelector('#df-6bd9f889-c1a2-4328-98f6-16f2ec50c772');\n",
              "          const dataTable =\n",
              "            await google.colab.kernel.invokeFunction('convertToInteractive',\n",
              "                                                     [key], {});\n",
              "          if (!dataTable) return;\n",
              "\n",
              "          const docLinkHtml = 'Like what you see? Visit the ' +\n",
              "            '<a target=\"_blank\" href=https://colab.research.google.com/notebooks/data_table.ipynb>data table notebook</a>'\n",
              "            + ' to learn more about interactive tables.';\n",
              "          element.innerHTML = '';\n",
              "          dataTable['output_type'] = 'display_data';\n",
              "          await google.colab.output.renderOutput(dataTable, element);\n",
              "          const docLink = document.createElement('div');\n",
              "          docLink.innerHTML = docLinkHtml;\n",
              "          element.appendChild(docLink);\n",
              "        }\n",
              "      </script>\n",
              "    </div>\n",
              "  </div>\n",
              "  "
            ]
          },
          "metadata": {},
          "execution_count": 5
        }
      ]
    },
    {
      "cell_type": "markdown",
      "source": [
        "# **TESTE REGRESSÃO LINEAR SIMPLES - COLUNA PREÇO E COLUNA ÁREA**"
      ],
      "metadata": {
        "id": "L4H2_k8qg7iI"
      }
    },
    {
      "cell_type": "code",
      "source": [
        "b_casas1.corr()"
      ],
      "metadata": {
        "id": "yH_aWSi3FAdV",
        "colab": {
          "base_uri": "https://localhost:8080/",
          "height": 521
        },
        "outputId": "464bb6a1-3f29-4a57-87ba-6f1d17eaa4d8"
      },
      "execution_count": null,
      "outputs": [
        {
          "output_type": "execute_result",
          "data": {
            "text/plain": [
              "                     price      area  bedrooms  bathrooms   stories  mainroad  \\\n",
              "price             1.000000  0.535997  0.366494   0.517545  0.420712  0.296898   \n",
              "area              0.535997  1.000000  0.151858   0.193820  0.083996  0.288874   \n",
              "bedrooms          0.366494  0.151858  1.000000   0.373930  0.408564 -0.012033   \n",
              "bathrooms         0.517545  0.193820  0.373930   1.000000  0.326165  0.042398   \n",
              "stories           0.420712  0.083996  0.408564   0.326165  1.000000  0.121706   \n",
              "mainroad          0.296898  0.288874 -0.012033   0.042398  0.121706  1.000000   \n",
              "guestroom         0.255517  0.140297  0.080549   0.126469  0.043538  0.092337   \n",
              "basement          0.187057  0.047417  0.097312   0.102106 -0.172394  0.044002   \n",
              "hotwaterheating   0.093073 -0.009229  0.046049   0.067159  0.018847 -0.011781   \n",
              "airconditioning   0.452954  0.222393  0.160603   0.186915  0.293602  0.105423   \n",
              "parking           0.384394  0.352980  0.139270   0.177496  0.045547  0.204433   \n",
              "prefarea          0.329777  0.234779  0.079023   0.063472  0.044425  0.199876   \n",
              "furnishingstatus  0.190086  0.081367  0.097834   0.089418  0.043288  0.079403   \n",
              "\n",
              "                  guestroom  basement  hotwaterheating  airconditioning  \\\n",
              "price              0.255517  0.187057         0.093073         0.452954   \n",
              "area               0.140297  0.047417        -0.009229         0.222393   \n",
              "bedrooms           0.080549  0.097312         0.046049         0.160603   \n",
              "bathrooms          0.126469  0.102106         0.067159         0.186915   \n",
              "stories            0.043538 -0.172394         0.018847         0.293602   \n",
              "mainroad           0.092337  0.044002        -0.011781         0.105423   \n",
              "guestroom          1.000000  0.372066        -0.010308         0.138179   \n",
              "basement           0.372066  1.000000         0.004385         0.047341   \n",
              "hotwaterheating   -0.010308  0.004385         1.000000        -0.130023   \n",
              "airconditioning    0.138179  0.047341        -0.130023         1.000000   \n",
              "parking            0.037466  0.051497         0.067864         0.159173   \n",
              "prefarea           0.160897  0.228083        -0.059411         0.117382   \n",
              "furnishingstatus   0.057513  0.093425         0.069076         0.020887   \n",
              "\n",
              "                   parking  prefarea  furnishingstatus  \n",
              "price             0.384394  0.329777          0.190086  \n",
              "area              0.352980  0.234779          0.081367  \n",
              "bedrooms          0.139270  0.079023          0.097834  \n",
              "bathrooms         0.177496  0.063472          0.089418  \n",
              "stories           0.045547  0.044425          0.043288  \n",
              "mainroad          0.204433  0.199876          0.079403  \n",
              "guestroom         0.037466  0.160897          0.057513  \n",
              "basement          0.051497  0.228083          0.093425  \n",
              "hotwaterheating   0.067864 -0.059411          0.069076  \n",
              "airconditioning   0.159173  0.117382          0.020887  \n",
              "parking           1.000000  0.091627          0.114405  \n",
              "prefarea          0.091627  1.000000          0.037823  \n",
              "furnishingstatus  0.114405  0.037823          1.000000  "
            ],
            "text/html": [
              "\n",
              "  <div id=\"df-b701f631-3280-41ff-ad3f-1281b41864d2\">\n",
              "    <div class=\"colab-df-container\">\n",
              "      <div>\n",
              "<style scoped>\n",
              "    .dataframe tbody tr th:only-of-type {\n",
              "        vertical-align: middle;\n",
              "    }\n",
              "\n",
              "    .dataframe tbody tr th {\n",
              "        vertical-align: top;\n",
              "    }\n",
              "\n",
              "    .dataframe thead th {\n",
              "        text-align: right;\n",
              "    }\n",
              "</style>\n",
              "<table border=\"1\" class=\"dataframe\">\n",
              "  <thead>\n",
              "    <tr style=\"text-align: right;\">\n",
              "      <th></th>\n",
              "      <th>price</th>\n",
              "      <th>area</th>\n",
              "      <th>bedrooms</th>\n",
              "      <th>bathrooms</th>\n",
              "      <th>stories</th>\n",
              "      <th>mainroad</th>\n",
              "      <th>guestroom</th>\n",
              "      <th>basement</th>\n",
              "      <th>hotwaterheating</th>\n",
              "      <th>airconditioning</th>\n",
              "      <th>parking</th>\n",
              "      <th>prefarea</th>\n",
              "      <th>furnishingstatus</th>\n",
              "    </tr>\n",
              "  </thead>\n",
              "  <tbody>\n",
              "    <tr>\n",
              "      <th>price</th>\n",
              "      <td>1.000000</td>\n",
              "      <td>0.535997</td>\n",
              "      <td>0.366494</td>\n",
              "      <td>0.517545</td>\n",
              "      <td>0.420712</td>\n",
              "      <td>0.296898</td>\n",
              "      <td>0.255517</td>\n",
              "      <td>0.187057</td>\n",
              "      <td>0.093073</td>\n",
              "      <td>0.452954</td>\n",
              "      <td>0.384394</td>\n",
              "      <td>0.329777</td>\n",
              "      <td>0.190086</td>\n",
              "    </tr>\n",
              "    <tr>\n",
              "      <th>area</th>\n",
              "      <td>0.535997</td>\n",
              "      <td>1.000000</td>\n",
              "      <td>0.151858</td>\n",
              "      <td>0.193820</td>\n",
              "      <td>0.083996</td>\n",
              "      <td>0.288874</td>\n",
              "      <td>0.140297</td>\n",
              "      <td>0.047417</td>\n",
              "      <td>-0.009229</td>\n",
              "      <td>0.222393</td>\n",
              "      <td>0.352980</td>\n",
              "      <td>0.234779</td>\n",
              "      <td>0.081367</td>\n",
              "    </tr>\n",
              "    <tr>\n",
              "      <th>bedrooms</th>\n",
              "      <td>0.366494</td>\n",
              "      <td>0.151858</td>\n",
              "      <td>1.000000</td>\n",
              "      <td>0.373930</td>\n",
              "      <td>0.408564</td>\n",
              "      <td>-0.012033</td>\n",
              "      <td>0.080549</td>\n",
              "      <td>0.097312</td>\n",
              "      <td>0.046049</td>\n",
              "      <td>0.160603</td>\n",
              "      <td>0.139270</td>\n",
              "      <td>0.079023</td>\n",
              "      <td>0.097834</td>\n",
              "    </tr>\n",
              "    <tr>\n",
              "      <th>bathrooms</th>\n",
              "      <td>0.517545</td>\n",
              "      <td>0.193820</td>\n",
              "      <td>0.373930</td>\n",
              "      <td>1.000000</td>\n",
              "      <td>0.326165</td>\n",
              "      <td>0.042398</td>\n",
              "      <td>0.126469</td>\n",
              "      <td>0.102106</td>\n",
              "      <td>0.067159</td>\n",
              "      <td>0.186915</td>\n",
              "      <td>0.177496</td>\n",
              "      <td>0.063472</td>\n",
              "      <td>0.089418</td>\n",
              "    </tr>\n",
              "    <tr>\n",
              "      <th>stories</th>\n",
              "      <td>0.420712</td>\n",
              "      <td>0.083996</td>\n",
              "      <td>0.408564</td>\n",
              "      <td>0.326165</td>\n",
              "      <td>1.000000</td>\n",
              "      <td>0.121706</td>\n",
              "      <td>0.043538</td>\n",
              "      <td>-0.172394</td>\n",
              "      <td>0.018847</td>\n",
              "      <td>0.293602</td>\n",
              "      <td>0.045547</td>\n",
              "      <td>0.044425</td>\n",
              "      <td>0.043288</td>\n",
              "    </tr>\n",
              "    <tr>\n",
              "      <th>mainroad</th>\n",
              "      <td>0.296898</td>\n",
              "      <td>0.288874</td>\n",
              "      <td>-0.012033</td>\n",
              "      <td>0.042398</td>\n",
              "      <td>0.121706</td>\n",
              "      <td>1.000000</td>\n",
              "      <td>0.092337</td>\n",
              "      <td>0.044002</td>\n",
              "      <td>-0.011781</td>\n",
              "      <td>0.105423</td>\n",
              "      <td>0.204433</td>\n",
              "      <td>0.199876</td>\n",
              "      <td>0.079403</td>\n",
              "    </tr>\n",
              "    <tr>\n",
              "      <th>guestroom</th>\n",
              "      <td>0.255517</td>\n",
              "      <td>0.140297</td>\n",
              "      <td>0.080549</td>\n",
              "      <td>0.126469</td>\n",
              "      <td>0.043538</td>\n",
              "      <td>0.092337</td>\n",
              "      <td>1.000000</td>\n",
              "      <td>0.372066</td>\n",
              "      <td>-0.010308</td>\n",
              "      <td>0.138179</td>\n",
              "      <td>0.037466</td>\n",
              "      <td>0.160897</td>\n",
              "      <td>0.057513</td>\n",
              "    </tr>\n",
              "    <tr>\n",
              "      <th>basement</th>\n",
              "      <td>0.187057</td>\n",
              "      <td>0.047417</td>\n",
              "      <td>0.097312</td>\n",
              "      <td>0.102106</td>\n",
              "      <td>-0.172394</td>\n",
              "      <td>0.044002</td>\n",
              "      <td>0.372066</td>\n",
              "      <td>1.000000</td>\n",
              "      <td>0.004385</td>\n",
              "      <td>0.047341</td>\n",
              "      <td>0.051497</td>\n",
              "      <td>0.228083</td>\n",
              "      <td>0.093425</td>\n",
              "    </tr>\n",
              "    <tr>\n",
              "      <th>hotwaterheating</th>\n",
              "      <td>0.093073</td>\n",
              "      <td>-0.009229</td>\n",
              "      <td>0.046049</td>\n",
              "      <td>0.067159</td>\n",
              "      <td>0.018847</td>\n",
              "      <td>-0.011781</td>\n",
              "      <td>-0.010308</td>\n",
              "      <td>0.004385</td>\n",
              "      <td>1.000000</td>\n",
              "      <td>-0.130023</td>\n",
              "      <td>0.067864</td>\n",
              "      <td>-0.059411</td>\n",
              "      <td>0.069076</td>\n",
              "    </tr>\n",
              "    <tr>\n",
              "      <th>airconditioning</th>\n",
              "      <td>0.452954</td>\n",
              "      <td>0.222393</td>\n",
              "      <td>0.160603</td>\n",
              "      <td>0.186915</td>\n",
              "      <td>0.293602</td>\n",
              "      <td>0.105423</td>\n",
              "      <td>0.138179</td>\n",
              "      <td>0.047341</td>\n",
              "      <td>-0.130023</td>\n",
              "      <td>1.000000</td>\n",
              "      <td>0.159173</td>\n",
              "      <td>0.117382</td>\n",
              "      <td>0.020887</td>\n",
              "    </tr>\n",
              "    <tr>\n",
              "      <th>parking</th>\n",
              "      <td>0.384394</td>\n",
              "      <td>0.352980</td>\n",
              "      <td>0.139270</td>\n",
              "      <td>0.177496</td>\n",
              "      <td>0.045547</td>\n",
              "      <td>0.204433</td>\n",
              "      <td>0.037466</td>\n",
              "      <td>0.051497</td>\n",
              "      <td>0.067864</td>\n",
              "      <td>0.159173</td>\n",
              "      <td>1.000000</td>\n",
              "      <td>0.091627</td>\n",
              "      <td>0.114405</td>\n",
              "    </tr>\n",
              "    <tr>\n",
              "      <th>prefarea</th>\n",
              "      <td>0.329777</td>\n",
              "      <td>0.234779</td>\n",
              "      <td>0.079023</td>\n",
              "      <td>0.063472</td>\n",
              "      <td>0.044425</td>\n",
              "      <td>0.199876</td>\n",
              "      <td>0.160897</td>\n",
              "      <td>0.228083</td>\n",
              "      <td>-0.059411</td>\n",
              "      <td>0.117382</td>\n",
              "      <td>0.091627</td>\n",
              "      <td>1.000000</td>\n",
              "      <td>0.037823</td>\n",
              "    </tr>\n",
              "    <tr>\n",
              "      <th>furnishingstatus</th>\n",
              "      <td>0.190086</td>\n",
              "      <td>0.081367</td>\n",
              "      <td>0.097834</td>\n",
              "      <td>0.089418</td>\n",
              "      <td>0.043288</td>\n",
              "      <td>0.079403</td>\n",
              "      <td>0.057513</td>\n",
              "      <td>0.093425</td>\n",
              "      <td>0.069076</td>\n",
              "      <td>0.020887</td>\n",
              "      <td>0.114405</td>\n",
              "      <td>0.037823</td>\n",
              "      <td>1.000000</td>\n",
              "    </tr>\n",
              "  </tbody>\n",
              "</table>\n",
              "</div>\n",
              "      <button class=\"colab-df-convert\" onclick=\"convertToInteractive('df-b701f631-3280-41ff-ad3f-1281b41864d2')\"\n",
              "              title=\"Convert this dataframe to an interactive table.\"\n",
              "              style=\"display:none;\">\n",
              "        \n",
              "  <svg xmlns=\"http://www.w3.org/2000/svg\" height=\"24px\"viewBox=\"0 0 24 24\"\n",
              "       width=\"24px\">\n",
              "    <path d=\"M0 0h24v24H0V0z\" fill=\"none\"/>\n",
              "    <path d=\"M18.56 5.44l.94 2.06.94-2.06 2.06-.94-2.06-.94-.94-2.06-.94 2.06-2.06.94zm-11 1L8.5 8.5l.94-2.06 2.06-.94-2.06-.94L8.5 2.5l-.94 2.06-2.06.94zm10 10l.94 2.06.94-2.06 2.06-.94-2.06-.94-.94-2.06-.94 2.06-2.06.94z\"/><path d=\"M17.41 7.96l-1.37-1.37c-.4-.4-.92-.59-1.43-.59-.52 0-1.04.2-1.43.59L10.3 9.45l-7.72 7.72c-.78.78-.78 2.05 0 2.83L4 21.41c.39.39.9.59 1.41.59.51 0 1.02-.2 1.41-.59l7.78-7.78 2.81-2.81c.8-.78.8-2.07 0-2.86zM5.41 20L4 18.59l7.72-7.72 1.47 1.35L5.41 20z\"/>\n",
              "  </svg>\n",
              "      </button>\n",
              "      \n",
              "  <style>\n",
              "    .colab-df-container {\n",
              "      display:flex;\n",
              "      flex-wrap:wrap;\n",
              "      gap: 12px;\n",
              "    }\n",
              "\n",
              "    .colab-df-convert {\n",
              "      background-color: #E8F0FE;\n",
              "      border: none;\n",
              "      border-radius: 50%;\n",
              "      cursor: pointer;\n",
              "      display: none;\n",
              "      fill: #1967D2;\n",
              "      height: 32px;\n",
              "      padding: 0 0 0 0;\n",
              "      width: 32px;\n",
              "    }\n",
              "\n",
              "    .colab-df-convert:hover {\n",
              "      background-color: #E2EBFA;\n",
              "      box-shadow: 0px 1px 2px rgba(60, 64, 67, 0.3), 0px 1px 3px 1px rgba(60, 64, 67, 0.15);\n",
              "      fill: #174EA6;\n",
              "    }\n",
              "\n",
              "    [theme=dark] .colab-df-convert {\n",
              "      background-color: #3B4455;\n",
              "      fill: #D2E3FC;\n",
              "    }\n",
              "\n",
              "    [theme=dark] .colab-df-convert:hover {\n",
              "      background-color: #434B5C;\n",
              "      box-shadow: 0px 1px 3px 1px rgba(0, 0, 0, 0.15);\n",
              "      filter: drop-shadow(0px 1px 2px rgba(0, 0, 0, 0.3));\n",
              "      fill: #FFFFFF;\n",
              "    }\n",
              "  </style>\n",
              "\n",
              "      <script>\n",
              "        const buttonEl =\n",
              "          document.querySelector('#df-b701f631-3280-41ff-ad3f-1281b41864d2 button.colab-df-convert');\n",
              "        buttonEl.style.display =\n",
              "          google.colab.kernel.accessAllowed ? 'block' : 'none';\n",
              "\n",
              "        async function convertToInteractive(key) {\n",
              "          const element = document.querySelector('#df-b701f631-3280-41ff-ad3f-1281b41864d2');\n",
              "          const dataTable =\n",
              "            await google.colab.kernel.invokeFunction('convertToInteractive',\n",
              "                                                     [key], {});\n",
              "          if (!dataTable) return;\n",
              "\n",
              "          const docLinkHtml = 'Like what you see? Visit the ' +\n",
              "            '<a target=\"_blank\" href=https://colab.research.google.com/notebooks/data_table.ipynb>data table notebook</a>'\n",
              "            + ' to learn more about interactive tables.';\n",
              "          element.innerHTML = '';\n",
              "          dataTable['output_type'] = 'display_data';\n",
              "          await google.colab.output.renderOutput(dataTable, element);\n",
              "          const docLink = document.createElement('div');\n",
              "          docLink.innerHTML = docLinkHtml;\n",
              "          element.appendChild(docLink);\n",
              "        }\n",
              "      </script>\n",
              "    </div>\n",
              "  </div>\n",
              "  "
            ]
          },
          "metadata": {},
          "execution_count": 16
        }
      ]
    },
    {
      "cell_type": "code",
      "source": [
        "#Teste com valor único - preenchendo variáveis.\n",
        "a_unic = b_casas.iloc[:, 1:2].values"
      ],
      "metadata": {
        "id": "2A7HIm0zU8Si"
      },
      "execution_count": null,
      "outputs": []
    },
    {
      "cell_type": "code",
      "source": [
        "b_unic = b_casas.iloc[:, 0].values"
      ],
      "metadata": {
        "id": "2pAiNaiJVY6r"
      },
      "execution_count": null,
      "outputs": []
    },
    {
      "cell_type": "code",
      "source": [
        "#Importando train_test_split para criar modelo de treinamento e de teste com base nos dados\n",
        "\n",
        "from sklearn.model_selection import train_test_split\n",
        "a_treinamento, a_teste, b_treinamento, b_teste = train_test_split(a_unic, b_unic, test_size=0.3, random_state=101)"
      ],
      "metadata": {
        "id": "nHKEvctgViXc"
      },
      "execution_count": null,
      "outputs": []
    },
    {
      "cell_type": "code",
      "source": [
        "a_treinamento.shape, b_treinamento.shape, a_teste.shape, b_teste.shape"
      ],
      "metadata": {
        "colab": {
          "base_uri": "https://localhost:8080/"
        },
        "id": "4t9asxvWV7HN",
        "outputId": "e1c318ae-2490-4ecc-e6dc-ecbe7ed4bf15"
      },
      "execution_count": null,
      "outputs": [
        {
          "output_type": "execute_result",
          "data": {
            "text/plain": [
              "((381, 1), (381,), (164, 1), (164,))"
            ]
          },
          "metadata": {},
          "execution_count": 9
        }
      ]
    },
    {
      "cell_type": "code",
      "source": [
        "#Aplicando o modelo de regressão linear nos modelos de treinamento/teste\n",
        "\n",
        "from sklearn.linear_model import LinearRegression\n",
        "regressor = LinearRegression()\n",
        "regressor.fit(a_treinamento, b_treinamento)"
      ],
      "metadata": {
        "id": "W0zO2q1wWfUC",
        "colab": {
          "base_uri": "https://localhost:8080/"
        },
        "outputId": "f7a2c979-c3c7-4892-89db-3c4b8d796a9f"
      },
      "execution_count": null,
      "outputs": [
        {
          "output_type": "execute_result",
          "data": {
            "text/plain": [
              "LinearRegression()"
            ]
          },
          "metadata": {},
          "execution_count": 10
        }
      ]
    },
    {
      "cell_type": "code",
      "source": [
        "regressor.intercept_"
      ],
      "metadata": {
        "colab": {
          "base_uri": "https://localhost:8080/"
        },
        "id": "cbDDAHJnXfyc",
        "outputId": "d393771d-caed-4fff-88e7-126fc55269e4"
      },
      "execution_count": null,
      "outputs": [
        {
          "output_type": "execute_result",
          "data": {
            "text/plain": [
              "2250957.0972331674"
            ]
          },
          "metadata": {},
          "execution_count": 11
        }
      ]
    },
    {
      "cell_type": "code",
      "source": [
        "regressor.coef_"
      ],
      "metadata": {
        "colab": {
          "base_uri": "https://localhost:8080/"
        },
        "id": "wuXdduVEXw9D",
        "outputId": "2831fc09-ed1f-45de-be5d-e2bc8b9644d0"
      },
      "execution_count": null,
      "outputs": [
        {
          "output_type": "execute_result",
          "data": {
            "text/plain": [
              "array([482.66635353])"
            ]
          },
          "metadata": {},
          "execution_count": 12
        }
      ]
    },
    {
      "cell_type": "code",
      "source": [
        "#Modelo de previsão.\n",
        "\n",
        "previsor = regressor.predict(a_treinamento)"
      ],
      "metadata": {
        "id": "UusLWhTvX7jd"
      },
      "execution_count": null,
      "outputs": []
    },
    {
      "cell_type": "code",
      "source": [
        "#Grafico para exemplificar o modelo de previsão.\n",
        "\n",
        "grafico1 = px.scatter(x = a_treinamento.ravel(), y = b_treinamento)\n",
        "grafico2 = px.line(x = a_treinamento.ravel(), y = previsor)\n",
        "grafico2.data[0].line.color = 'red'\n",
        "grafico3 = go.Figure(data=grafico1.data + grafico2.data)\n",
        "grafico3"
      ],
      "metadata": {
        "colab": {
          "base_uri": "https://localhost:8080/",
          "height": 542
        },
        "id": "WAMQ_02QY9bS",
        "outputId": "8e43c10c-70b8-4c7f-ee17-4da906f7bb16"
      },
      "execution_count": null,
      "outputs": [
        {
          "output_type": "display_data",
          "data": {
            "text/html": [
              "<html>\n",
              "<head><meta charset=\"utf-8\" /></head>\n",
              "<body>\n",
              "    <div>            <script src=\"https://cdnjs.cloudflare.com/ajax/libs/mathjax/2.7.5/MathJax.js?config=TeX-AMS-MML_SVG\"></script><script type=\"text/javascript\">if (window.MathJax) {MathJax.Hub.Config({SVG: {font: \"STIX-Web\"}});}</script>                <script type=\"text/javascript\">window.PlotlyConfig = {MathJaxConfig: 'local'};</script>\n",
              "        <script src=\"https://cdn.plot.ly/plotly-2.8.3.min.js\"></script>                <div id=\"ac710aa2-afeb-4b3b-a39f-96aac26243af\" class=\"plotly-graph-div\" style=\"height:525px; width:100%;\"></div>            <script type=\"text/javascript\">                                    window.PLOTLYENV=window.PLOTLYENV || {};                                    if (document.getElementById(\"ac710aa2-afeb-4b3b-a39f-96aac26243af\")) {                    Plotly.newPlot(                        \"ac710aa2-afeb-4b3b-a39f-96aac26243af\",                        [{\"hovertemplate\":\"x=%{x}<br>y=%{y}<extra></extra>\",\"legendgroup\":\"\",\"marker\":{\"color\":\"#636efa\",\"symbol\":\"circle\"},\"mode\":\"markers\",\"name\":\"\",\"orientation\":\"v\",\"showlegend\":false,\"x\":[6000,3000,3630,3210,4800,3290,3660,4120,3000,5150,6450,4040,6020,6325,5200,6000,5400,3069,5850,3512,3000,3600,3760,6360,3650,4095,3970,4800,6600,4992,3640,8520,6800,6000,5948,3500,9800,6100,4770,2700,5400,6210,8500,3720,3000,3300,4950,3630,3850,6670,6600,3800,4260,16200,5960,6100,6615,4500,3150,12900,7200,4410,5830,3000,4960,3816,7231,2880,5500,4160,5750,4400,3968,3185,3450,10240,4100,4000,6600,6060,4000,6360,4000,6615,4320,4130,2650,2610,2176,2850,5985,3880,6540,3850,3600,6000,3630,4300,5000,7160,5700,4600,4370,5600,3850,7000,1905,6360,5500,3986,5500,3990,4510,2787,3100,3600,6360,7980,4646,4320,7260,5800,3000,7320,4320,4500,3185,7020,4040,3584,3450,9860,4240,6000,4500,2610,8400,3750,3600,5360,3410,3640,7700,8100,2160,8250,3600,3150,6050,3240,3640,8400,8000,5800,7000,9000,6840,8960,5640,2000,5300,5500,5136,4600,4840,2684,6000,3620,6321,6540,4320,3450,3090,3180,6360,6600,3420,2970,3500,2990,2400,3450,8050,6480,3150,8580,4820,4500,7410,3460,7440,6000,4040,4095,4800,5000,6000,3745,13200,1836,6000,4400,3000,3180,6254,9000,4000,7600,3300,3760,4700,3650,5880,3960,4500,4080,10500,8880,7686,6000,6000,11460,7000,7700,3185,15600,4352,7800,2747,6400,3520,7000,3420,3240,4632,12944,3000,4280,3500,3000,4500,4900,6360,5900,3520,6000,3480,3360,4040,10500,4775,3000,3934,3480,6500,10500,3960,6862,3450,3649,8875,6000,4200,2520,6000,4500,4510,5680,4560,7155,3150,6600,6650,3930,5828,6000,3780,5170,3000,6825,2145,5320,6930,6000,3630,5850,5400,3750,4040,6540,2398,5200,2800,3510,7800,4500,5300,3180,7500,7950,2640,9620,3480,3600,4800,2475,7680,4400,3850,5300,4640,4350,9667,4500,6600,3800,3180,2175,2275,7152,3635,2145,4400,2880,3120,13200,7475,4960,3970,10700,4500,6710,5400,1700,2856,3090,3630,5400,4100,3500,5800,4050,6900,7420,4079,7350,6350,6480,3264,5880,3500,3960,4000,3640,2145,7770,6000,4900,4000,3000,4000,4500,4080,6420,4032,4990,3500,6000,3570,5400,2910,7440,6550,4960,7500,6600,5900,7424,4260,2145,2787],\"xaxis\":\"x\",\"y\":[4690000,4060000,3675000,2450000,5600000,3920000,2940000,3360000,2961000,7350000,5383000,6650000,3710000,7420000,5810000,7560000,4690000,3150000,4200000,3500000,3640000,2590000,4550000,5600000,5530000,4900000,2275000,5810000,5460000,4060000,3395000,5250000,2730000,9100000,4935000,9240000,5250000,5530000,4900000,2940000,4025000,5460000,8960000,3360000,2520000,5530000,4382000,2870000,3115000,6510000,6685000,3045000,5250000,10150000,3640000,5110000,6090000,3143000,3570000,4900000,6300000,4200000,3780000,2135000,3080000,3920000,5950000,4403000,3920000,4830000,9800000,2590000,4410000,2653000,3395000,4760000,3990000,3430000,9100000,4123000,2730000,7840000,2695000,2940000,4690000,3640000,2800000,4200000,3850000,3640000,4130000,4620000,5250000,1750000,3675000,7560000,4025000,6083000,6440000,5880000,6650000,5285000,3220000,4095000,3850000,5803000,4340000,4270000,8400000,3150000,6195000,3500000,4613000,4235000,3360000,2940000,4473000,5495000,4900000,8750000,3920000,4900000,3920000,5950000,4060000,4007500,3360000,5950000,3325000,3710000,4515000,4515000,3500000,5775000,3080000,3430000,4550000,3010000,3710000,4550000,5145000,3500000,2450000,3087000,3080000,6510000,3780000,5460000,5243000,6107500,4550000,5250000,6020000,4200000,8080940,7980000,8120000,12250000,3675000,2660000,2233000,6230000,5600000,3010000,4165000,3220000,9681000,1750000,4760000,8540000,3220000,3150000,3010000,3850000,7035000,5040000,4767000,4900000,3150000,1855000,1767150,3150000,8645000,7700000,3815000,10150000,3780000,3570000,6475000,4025000,7420000,6629000,4480000,3150000,5033000,5600000,7350000,4655000,6930000,2275000,8463000,5565000,5110000,3290000,5950000,6300000,2653000,5040000,2835000,6510000,5600000,3500000,3290000,6475000,4340000,4165000,5600000,7070000,4970000,6860000,6650000,5873000,4200000,6895000,3430000,5943000,2975000,5320000,4200000,6300000,4200000,4795000,1960000,3010000,4130000,3500000,2485000,3640000,3115000,1820000,5215000,3493000,4270000,3500000,4515000,7350000,2940000,2100000,3423000,5600000,3325000,5110000,2660000,3745000,6650000,6615000,2800000,4830000,4193000,1890000,8400000,2870000,4907000,3773000,6300000,3570000,4480000,4620000,8645000,8680000,2940000,5600000,4235000,3255000,5810000,7525000,3885000,4690000,4900000,5425000,3465000,4550000,3773000,6755000,3675000,2940000,2870000,4445000,3290000,5950000,3118850,2852500,4956000,4515000,9240000,4200000,3850000,3885000,12215000,8400000,2835000,6083000,3500000,3500000,6405000,2380000,7210000,2485000,3535000,5250000,5740000,4865000,4690000,3255000,7490000,5250000,2310000,4270000,3640000,3850000,2408000,3430000,4305000,2520000,3220000,9800000,8400000,3360000,2275000,5040000,3605000,5390000,5565000,1890000,3780000,3080000,2660000,4900000,4543000,4340000,5740000,3710000,6020000,13300000,4200000,3500000,6195000,3990000,2380000,3500000,2450000,3990000,4200000,3234000,3290000,4270000,6265000,4410000,4585000,3115000,2660000,6160000,3850000,6650000,4319000,4543000,3360000,7210000,3640000,5740000,2604000,7420000,7875000,2940000,10850000,6090000,4060000,3500000,6650000,3920000,2380000],\"yaxis\":\"y\",\"type\":\"scatter\"},{\"hovertemplate\":\"x=%{x}<br>y=%{y}<extra></extra>\",\"legendgroup\":\"\",\"line\":{\"color\":\"red\",\"dash\":\"solid\"},\"marker\":{\"symbol\":\"circle\"},\"mode\":\"lines\",\"name\":\"\",\"orientation\":\"v\",\"showlegend\":false,\"x\":[6000,3000,3630,3210,4800,3290,3660,4120,3000,5150,6450,4040,6020,6325,5200,6000,5400,3069,5850,3512,3000,3600,3760,6360,3650,4095,3970,4800,6600,4992,3640,8520,6800,6000,5948,3500,9800,6100,4770,2700,5400,6210,8500,3720,3000,3300,4950,3630,3850,6670,6600,3800,4260,16200,5960,6100,6615,4500,3150,12900,7200,4410,5830,3000,4960,3816,7231,2880,5500,4160,5750,4400,3968,3185,3450,10240,4100,4000,6600,6060,4000,6360,4000,6615,4320,4130,2650,2610,2176,2850,5985,3880,6540,3850,3600,6000,3630,4300,5000,7160,5700,4600,4370,5600,3850,7000,1905,6360,5500,3986,5500,3990,4510,2787,3100,3600,6360,7980,4646,4320,7260,5800,3000,7320,4320,4500,3185,7020,4040,3584,3450,9860,4240,6000,4500,2610,8400,3750,3600,5360,3410,3640,7700,8100,2160,8250,3600,3150,6050,3240,3640,8400,8000,5800,7000,9000,6840,8960,5640,2000,5300,5500,5136,4600,4840,2684,6000,3620,6321,6540,4320,3450,3090,3180,6360,6600,3420,2970,3500,2990,2400,3450,8050,6480,3150,8580,4820,4500,7410,3460,7440,6000,4040,4095,4800,5000,6000,3745,13200,1836,6000,4400,3000,3180,6254,9000,4000,7600,3300,3760,4700,3650,5880,3960,4500,4080,10500,8880,7686,6000,6000,11460,7000,7700,3185,15600,4352,7800,2747,6400,3520,7000,3420,3240,4632,12944,3000,4280,3500,3000,4500,4900,6360,5900,3520,6000,3480,3360,4040,10500,4775,3000,3934,3480,6500,10500,3960,6862,3450,3649,8875,6000,4200,2520,6000,4500,4510,5680,4560,7155,3150,6600,6650,3930,5828,6000,3780,5170,3000,6825,2145,5320,6930,6000,3630,5850,5400,3750,4040,6540,2398,5200,2800,3510,7800,4500,5300,3180,7500,7950,2640,9620,3480,3600,4800,2475,7680,4400,3850,5300,4640,4350,9667,4500,6600,3800,3180,2175,2275,7152,3635,2145,4400,2880,3120,13200,7475,4960,3970,10700,4500,6710,5400,1700,2856,3090,3630,5400,4100,3500,5800,4050,6900,7420,4079,7350,6350,6480,3264,5880,3500,3960,4000,3640,2145,7770,6000,4900,4000,3000,4000,4500,4080,6420,4032,4990,3500,6000,3570,5400,2910,7440,6550,4960,7500,6600,5900,7424,4260,2145,2787],\"xaxis\":\"x\",\"y\":[5146955.218406833,3698956.1578200003,4003035.960543235,3800316.092061078,4567755.5941721,3838929.400343394,4017515.951149103,4239542.473772418,3698956.1578200003,4736688.81790723,5364155.077494858,4200929.165490102,5156608.545477412,5303821.7833037395,4760822.135583677,5146955.218406833,4857355.406289466,3732260.1362134973,5074555.265377492,3946081.3308268194,3698956.1578200003,3988555.9699373664,4065782.586501998,5320715.105677253,4012689.2876138138,4227475.814934194,4167142.5207430758,4567755.5941721,5436555.0305242,4660427.534049657,4007862.6240785243,6363274.429299772,5533088.301229988,5146955.218406833,5121856.568023328,3940289.3345844722,6981087.361816822,5195221.8537597265,4553275.603566231,3554156.251761317,4857355.406289466,5248315.152647911,6353621.102229193,4046475.93236084,3698956.1578200003,3843756.0638786834,4640155.547201442,4003035.960543235,4109222.5583196026,5470341.675271225,5436555.0305242,4085089.2406431558,4307115.76326647,10070152.024402063,5127648.564265675,5195221.8537597265,5443795.025827134,4422955.688113417,3771356.1108493414,8477353.057756549,5726154.842641566,4379515.716295811,5064901.938306913,3698956.1578200003,4644982.210736731,4092811.9022996183,5741117.499600964,3641036.1953965267,4905622.04164236,4258849.127913576,5026288.630024597,4374689.052760522,4166177.188036018,3788249.4332228545,3916156.016908025,7193460.557369556,4229889.146701839,4181622.511348944,5436555.0305242,5175915.19961857,4181622.511348944,5320715.105677253,4181622.511348944,5443795.025827134,4336075.744478206,4244369.137307707,3530022.93408487,3510716.279943712,3301239.08251215,3626556.2047906583,5139715.223103899,4123702.548925471,5407595.049312463,4109222.5583196026,3988555.9699373664,5146955.218406833,4003035.960543235,4326422.417407627,4664288.864877889,5706848.188500408,5002155.31234815,4471222.32346631,4360209.0621546535,4953888.676995255,4109222.5583196026,5629621.571935777,3170436.500705806,5320715.105677253,4905622.04164236,4174865.1823995393,4905622.04164236,4176795.8478136547,4427782.351648706,3596148.224518335,3747222.7931728945,3988555.9699373664,5320715.105677253,6102634.598394142,4493424.975728642,4336075.744478206,5755114.823853303,5050421.947701044,3698956.1578200003,5784074.80506504,4336075.744478206,4422955.688113417,3788249.4332228545,5639274.899006356,4200929.165490102,3980833.3082809034,3916156.016908025,7010047.343028557,4297462.436195891,5146955.218406833,4422955.688113417,3510716.279943712,6305354.466876299,4060955.9229667084,3988555.9699373664,4838048.752148308,3896849.3627668675,4007862.6240785243,5967488.019406037,6160554.560817616,3293516.420855687,6232954.513846957,3988555.9699373664,3771356.1108493414,5171088.53608328,3814796.0826669466,4007862.6240785243,6305354.466876299,6112287.925464721,5050421.947701044,5629621.571935777,6594954.278993666,5552394.955371146,6575647.624852508,4973195.331136413,3216289.804291056,4809088.770936572,4905622.04164236,4729931.488957825,4471222.32346631,4587062.2483132575,3546433.5901048537,5146955.218406833,3998209.2970079454,5301891.117889624,5407595.049312463,4336075.744478206,3916156.016908025,3742396.129637605,3785836.10145521,5320715.105677253,5436555.0305242,3901676.026302157,3684476.167214132,3940289.3345844722,3694129.494284711,3409356.3457026333,3916156.016908025,6136421.243141169,5378635.068100726,3771356.1108493414,6392234.410511509,4577408.921242679,4422955.688113417,5827514.776882645,3920982.6804433144,5841994.767488512,5146955.218406833,4200929.165490102,4227475.814934194,4567755.5941721,4664288.864877889,5146955.218406833,4058542.5911990637,8622152.96381523,3137132.522312309,5146955.218406833,4374689.052760522,3698956.1578200003,3785836.10145521,5269552.472203184,6594954.278993666,4181622.511348944,5919221.384053144,3843756.0638786834,4065782.586501998,4519488.958819205,4012689.2876138138,5089035.25598336,4162315.8572077863,4422955.688113417,4220235.81963126,7318953.809287082,6537034.316570193,5960730.6904566325,5146955.218406833,5146955.218406833,7782313.508674867,5629621.571935777,5967488.019406037,3788249.4332228545,9780552.212284697,4351521.067791132,6015754.654758932,3576841.570377177,5340021.7598184105,3949942.661655051,5629621.571935777,3901676.026302157,3814796.0826669466,4486667.646779237,8498590.377311822,3698956.1578200003,4316769.090337049,3940289.3345844722,3698956.1578200003,4422955.688113417,4616022.229524994,5320715.105677253,5098688.583053938,3949942.661655051,5146955.218406833,3930636.0075138933,3872716.04509042,4200929.165490102,7318953.809287082,4555688.935333876,3698956.1578200003,4149766.5320160342,3930636.0075138933,5388288.395171305,7318953.809287082,4162315.8572077863,5563013.615148783,3916156.016908025,4012206.621260285,6534620.984802548,5146955.218406833,4278155.7820547335,3467276.308126107,5146955.218406833,4422955.688113417,4427782.351648706,4992501.985277571,4451915.669325152,5704434.856732763,3771356.1108493414,5436555.0305242,5460688.348200647,4147835.866601918,5063936.605599854,5146955.218406833,4075435.913572577,4746342.144977809,3698956.1578200003,5545154.960068212,3286276.425552753,4818742.09800715,5595834.92718875,5146955.218406833,4003035.960543235,5074555.265377492,4857355.406289466,4060955.9229667084,4200929.165490102,5407595.049312463,3408391.0129955756,4760822.135583677,3602422.887114211,3945115.9981197617,6015754.654758932,4422955.688113417,4809088.770936572,3785836.10145521,5870954.748700249,6088154.607788274,3525196.2705495805,6894207.418181611,3930636.0075138933,3988555.9699373664,4567755.5941721,3445556.3222173043,5957834.6923354585,4374689.052760522,4109222.5583196026,4809088.770936572,4490528.977607468,4350555.735084075,6916892.736797471,4422955.688113417,5436555.0305242,4085089.2406431558,3785836.10145521,3300756.416158621,3349023.0515115154,5702986.857672176,4005449.2923108796,3286276.425552753,4374689.052760522,3641036.1953965267,3756876.1202434734,8622152.96381523,5858888.089862025,4644982.210736731,4167142.5207430758,7415487.07999287,4422955.688113417,5489648.329412383,4857355.406289466,3071489.8982323725,3629452.2029118324,3742396.129637605,4003035.960543235,4857355.406289466,4229889.146701839,3940289.3345844722,5050421.947701044,4205755.8290253915,5581354.936582882,5832341.440417934,4219753.153277731,5798554.795670908,5315888.442141963,5378635.068100726,3826380.0751516414,5089035.25598336,3940289.3345844722,4162315.8572077863,4181622.511348944,4007862.6240785243,3286276.425552753,6001274.664153064,5146955.218406833,4616022.229524994,4181622.511348944,3698956.1578200003,4181622.511348944,4422955.688113417,4220235.81963126,5349675.086888989,4197067.83466187,4659462.2013425995,3940289.3345844722,5146955.218406833,3974075.979331498,4857355.406289466,3655516.186002395,5841994.767488512,5412421.7128477525,4644982.210736731,5870954.748700249,5436555.0305242,5098688.583053938,5834272.10583205,4307115.76326647,3286276.425552753,3596148.224518335],\"yaxis\":\"y\",\"type\":\"scatter\"}],                        {\"template\":{\"data\":{\"bar\":[{\"error_x\":{\"color\":\"#2a3f5f\"},\"error_y\":{\"color\":\"#2a3f5f\"},\"marker\":{\"line\":{\"color\":\"#E5ECF6\",\"width\":0.5},\"pattern\":{\"fillmode\":\"overlay\",\"size\":10,\"solidity\":0.2}},\"type\":\"bar\"}],\"barpolar\":[{\"marker\":{\"line\":{\"color\":\"#E5ECF6\",\"width\":0.5},\"pattern\":{\"fillmode\":\"overlay\",\"size\":10,\"solidity\":0.2}},\"type\":\"barpolar\"}],\"carpet\":[{\"aaxis\":{\"endlinecolor\":\"#2a3f5f\",\"gridcolor\":\"white\",\"linecolor\":\"white\",\"minorgridcolor\":\"white\",\"startlinecolor\":\"#2a3f5f\"},\"baxis\":{\"endlinecolor\":\"#2a3f5f\",\"gridcolor\":\"white\",\"linecolor\":\"white\",\"minorgridcolor\":\"white\",\"startlinecolor\":\"#2a3f5f\"},\"type\":\"carpet\"}],\"choropleth\":[{\"colorbar\":{\"outlinewidth\":0,\"ticks\":\"\"},\"type\":\"choropleth\"}],\"contour\":[{\"colorbar\":{\"outlinewidth\":0,\"ticks\":\"\"},\"colorscale\":[[0.0,\"#0d0887\"],[0.1111111111111111,\"#46039f\"],[0.2222222222222222,\"#7201a8\"],[0.3333333333333333,\"#9c179e\"],[0.4444444444444444,\"#bd3786\"],[0.5555555555555556,\"#d8576b\"],[0.6666666666666666,\"#ed7953\"],[0.7777777777777778,\"#fb9f3a\"],[0.8888888888888888,\"#fdca26\"],[1.0,\"#f0f921\"]],\"type\":\"contour\"}],\"contourcarpet\":[{\"colorbar\":{\"outlinewidth\":0,\"ticks\":\"\"},\"type\":\"contourcarpet\"}],\"heatmap\":[{\"colorbar\":{\"outlinewidth\":0,\"ticks\":\"\"},\"colorscale\":[[0.0,\"#0d0887\"],[0.1111111111111111,\"#46039f\"],[0.2222222222222222,\"#7201a8\"],[0.3333333333333333,\"#9c179e\"],[0.4444444444444444,\"#bd3786\"],[0.5555555555555556,\"#d8576b\"],[0.6666666666666666,\"#ed7953\"],[0.7777777777777778,\"#fb9f3a\"],[0.8888888888888888,\"#fdca26\"],[1.0,\"#f0f921\"]],\"type\":\"heatmap\"}],\"heatmapgl\":[{\"colorbar\":{\"outlinewidth\":0,\"ticks\":\"\"},\"colorscale\":[[0.0,\"#0d0887\"],[0.1111111111111111,\"#46039f\"],[0.2222222222222222,\"#7201a8\"],[0.3333333333333333,\"#9c179e\"],[0.4444444444444444,\"#bd3786\"],[0.5555555555555556,\"#d8576b\"],[0.6666666666666666,\"#ed7953\"],[0.7777777777777778,\"#fb9f3a\"],[0.8888888888888888,\"#fdca26\"],[1.0,\"#f0f921\"]],\"type\":\"heatmapgl\"}],\"histogram\":[{\"marker\":{\"pattern\":{\"fillmode\":\"overlay\",\"size\":10,\"solidity\":0.2}},\"type\":\"histogram\"}],\"histogram2d\":[{\"colorbar\":{\"outlinewidth\":0,\"ticks\":\"\"},\"colorscale\":[[0.0,\"#0d0887\"],[0.1111111111111111,\"#46039f\"],[0.2222222222222222,\"#7201a8\"],[0.3333333333333333,\"#9c179e\"],[0.4444444444444444,\"#bd3786\"],[0.5555555555555556,\"#d8576b\"],[0.6666666666666666,\"#ed7953\"],[0.7777777777777778,\"#fb9f3a\"],[0.8888888888888888,\"#fdca26\"],[1.0,\"#f0f921\"]],\"type\":\"histogram2d\"}],\"histogram2dcontour\":[{\"colorbar\":{\"outlinewidth\":0,\"ticks\":\"\"},\"colorscale\":[[0.0,\"#0d0887\"],[0.1111111111111111,\"#46039f\"],[0.2222222222222222,\"#7201a8\"],[0.3333333333333333,\"#9c179e\"],[0.4444444444444444,\"#bd3786\"],[0.5555555555555556,\"#d8576b\"],[0.6666666666666666,\"#ed7953\"],[0.7777777777777778,\"#fb9f3a\"],[0.8888888888888888,\"#fdca26\"],[1.0,\"#f0f921\"]],\"type\":\"histogram2dcontour\"}],\"mesh3d\":[{\"colorbar\":{\"outlinewidth\":0,\"ticks\":\"\"},\"type\":\"mesh3d\"}],\"parcoords\":[{\"line\":{\"colorbar\":{\"outlinewidth\":0,\"ticks\":\"\"}},\"type\":\"parcoords\"}],\"pie\":[{\"automargin\":true,\"type\":\"pie\"}],\"scatter\":[{\"marker\":{\"colorbar\":{\"outlinewidth\":0,\"ticks\":\"\"}},\"type\":\"scatter\"}],\"scatter3d\":[{\"line\":{\"colorbar\":{\"outlinewidth\":0,\"ticks\":\"\"}},\"marker\":{\"colorbar\":{\"outlinewidth\":0,\"ticks\":\"\"}},\"type\":\"scatter3d\"}],\"scattercarpet\":[{\"marker\":{\"colorbar\":{\"outlinewidth\":0,\"ticks\":\"\"}},\"type\":\"scattercarpet\"}],\"scattergeo\":[{\"marker\":{\"colorbar\":{\"outlinewidth\":0,\"ticks\":\"\"}},\"type\":\"scattergeo\"}],\"scattergl\":[{\"marker\":{\"colorbar\":{\"outlinewidth\":0,\"ticks\":\"\"}},\"type\":\"scattergl\"}],\"scattermapbox\":[{\"marker\":{\"colorbar\":{\"outlinewidth\":0,\"ticks\":\"\"}},\"type\":\"scattermapbox\"}],\"scatterpolar\":[{\"marker\":{\"colorbar\":{\"outlinewidth\":0,\"ticks\":\"\"}},\"type\":\"scatterpolar\"}],\"scatterpolargl\":[{\"marker\":{\"colorbar\":{\"outlinewidth\":0,\"ticks\":\"\"}},\"type\":\"scatterpolargl\"}],\"scatterternary\":[{\"marker\":{\"colorbar\":{\"outlinewidth\":0,\"ticks\":\"\"}},\"type\":\"scatterternary\"}],\"surface\":[{\"colorbar\":{\"outlinewidth\":0,\"ticks\":\"\"},\"colorscale\":[[0.0,\"#0d0887\"],[0.1111111111111111,\"#46039f\"],[0.2222222222222222,\"#7201a8\"],[0.3333333333333333,\"#9c179e\"],[0.4444444444444444,\"#bd3786\"],[0.5555555555555556,\"#d8576b\"],[0.6666666666666666,\"#ed7953\"],[0.7777777777777778,\"#fb9f3a\"],[0.8888888888888888,\"#fdca26\"],[1.0,\"#f0f921\"]],\"type\":\"surface\"}],\"table\":[{\"cells\":{\"fill\":{\"color\":\"#EBF0F8\"},\"line\":{\"color\":\"white\"}},\"header\":{\"fill\":{\"color\":\"#C8D4E3\"},\"line\":{\"color\":\"white\"}},\"type\":\"table\"}]},\"layout\":{\"annotationdefaults\":{\"arrowcolor\":\"#2a3f5f\",\"arrowhead\":0,\"arrowwidth\":1},\"autotypenumbers\":\"strict\",\"coloraxis\":{\"colorbar\":{\"outlinewidth\":0,\"ticks\":\"\"}},\"colorscale\":{\"diverging\":[[0,\"#8e0152\"],[0.1,\"#c51b7d\"],[0.2,\"#de77ae\"],[0.3,\"#f1b6da\"],[0.4,\"#fde0ef\"],[0.5,\"#f7f7f7\"],[0.6,\"#e6f5d0\"],[0.7,\"#b8e186\"],[0.8,\"#7fbc41\"],[0.9,\"#4d9221\"],[1,\"#276419\"]],\"sequential\":[[0.0,\"#0d0887\"],[0.1111111111111111,\"#46039f\"],[0.2222222222222222,\"#7201a8\"],[0.3333333333333333,\"#9c179e\"],[0.4444444444444444,\"#bd3786\"],[0.5555555555555556,\"#d8576b\"],[0.6666666666666666,\"#ed7953\"],[0.7777777777777778,\"#fb9f3a\"],[0.8888888888888888,\"#fdca26\"],[1.0,\"#f0f921\"]],\"sequentialminus\":[[0.0,\"#0d0887\"],[0.1111111111111111,\"#46039f\"],[0.2222222222222222,\"#7201a8\"],[0.3333333333333333,\"#9c179e\"],[0.4444444444444444,\"#bd3786\"],[0.5555555555555556,\"#d8576b\"],[0.6666666666666666,\"#ed7953\"],[0.7777777777777778,\"#fb9f3a\"],[0.8888888888888888,\"#fdca26\"],[1.0,\"#f0f921\"]]},\"colorway\":[\"#636efa\",\"#EF553B\",\"#00cc96\",\"#ab63fa\",\"#FFA15A\",\"#19d3f3\",\"#FF6692\",\"#B6E880\",\"#FF97FF\",\"#FECB52\"],\"font\":{\"color\":\"#2a3f5f\"},\"geo\":{\"bgcolor\":\"white\",\"lakecolor\":\"white\",\"landcolor\":\"#E5ECF6\",\"showlakes\":true,\"showland\":true,\"subunitcolor\":\"white\"},\"hoverlabel\":{\"align\":\"left\"},\"hovermode\":\"closest\",\"mapbox\":{\"style\":\"light\"},\"paper_bgcolor\":\"white\",\"plot_bgcolor\":\"#E5ECF6\",\"polar\":{\"angularaxis\":{\"gridcolor\":\"white\",\"linecolor\":\"white\",\"ticks\":\"\"},\"bgcolor\":\"#E5ECF6\",\"radialaxis\":{\"gridcolor\":\"white\",\"linecolor\":\"white\",\"ticks\":\"\"}},\"scene\":{\"xaxis\":{\"backgroundcolor\":\"#E5ECF6\",\"gridcolor\":\"white\",\"gridwidth\":2,\"linecolor\":\"white\",\"showbackground\":true,\"ticks\":\"\",\"zerolinecolor\":\"white\"},\"yaxis\":{\"backgroundcolor\":\"#E5ECF6\",\"gridcolor\":\"white\",\"gridwidth\":2,\"linecolor\":\"white\",\"showbackground\":true,\"ticks\":\"\",\"zerolinecolor\":\"white\"},\"zaxis\":{\"backgroundcolor\":\"#E5ECF6\",\"gridcolor\":\"white\",\"gridwidth\":2,\"linecolor\":\"white\",\"showbackground\":true,\"ticks\":\"\",\"zerolinecolor\":\"white\"}},\"shapedefaults\":{\"line\":{\"color\":\"#2a3f5f\"}},\"ternary\":{\"aaxis\":{\"gridcolor\":\"white\",\"linecolor\":\"white\",\"ticks\":\"\"},\"baxis\":{\"gridcolor\":\"white\",\"linecolor\":\"white\",\"ticks\":\"\"},\"bgcolor\":\"#E5ECF6\",\"caxis\":{\"gridcolor\":\"white\",\"linecolor\":\"white\",\"ticks\":\"\"}},\"title\":{\"x\":0.05},\"xaxis\":{\"automargin\":true,\"gridcolor\":\"white\",\"linecolor\":\"white\",\"ticks\":\"\",\"title\":{\"standoff\":15},\"zerolinecolor\":\"white\",\"zerolinewidth\":2},\"yaxis\":{\"automargin\":true,\"gridcolor\":\"white\",\"linecolor\":\"white\",\"ticks\":\"\",\"title\":{\"standoff\":15},\"zerolinecolor\":\"white\",\"zerolinewidth\":2}}}},                        {\"responsive\": true}                    ).then(function(){\n",
              "                            \n",
              "var gd = document.getElementById('ac710aa2-afeb-4b3b-a39f-96aac26243af');\n",
              "var x = new MutationObserver(function (mutations, observer) {{\n",
              "        var display = window.getComputedStyle(gd).display;\n",
              "        if (!display || display === 'none') {{\n",
              "            console.log([gd, 'removed!']);\n",
              "            Plotly.purge(gd);\n",
              "            observer.disconnect();\n",
              "        }}\n",
              "}});\n",
              "\n",
              "// Listen for the removal of the full notebook cells\n",
              "var notebookContainer = gd.closest('#notebook-container');\n",
              "if (notebookContainer) {{\n",
              "    x.observe(notebookContainer, {childList: true});\n",
              "}}\n",
              "\n",
              "// Listen for the clearing of the current output cell\n",
              "var outputEl = gd.closest('.output');\n",
              "if (outputEl) {{\n",
              "    x.observe(outputEl, {childList: true});\n",
              "}}\n",
              "\n",
              "                        })                };                            </script>        </div>\n",
              "</body>\n",
              "</html>"
            ]
          },
          "metadata": {}
        }
      ]
    },
    {
      "cell_type": "markdown",
      "source": [
        "# **MÉTRICAS DE ERRO**"
      ],
      "metadata": {
        "id": "n7lSlAPCCm0R"
      }
    },
    {
      "cell_type": "code",
      "source": [
        "#Pontuação da base de treinamento.\n",
        "\n",
        "regressor.score(a_treinamento, b_treinamento)"
      ],
      "metadata": {
        "colab": {
          "base_uri": "https://localhost:8080/"
        },
        "id": "um3XFJyMXy1Y",
        "outputId": "838348a4-1bd7-455b-83c4-7b387f0a7a5e"
      },
      "execution_count": null,
      "outputs": [
        {
          "output_type": "execute_result",
          "data": {
            "text/plain": [
              "0.30197111526966625"
            ]
          },
          "metadata": {},
          "execution_count": 17
        }
      ]
    },
    {
      "cell_type": "code",
      "source": [
        "#Pontuação da base de testes.\n",
        "\n",
        "regressor.score(a_teste, b_teste)"
      ],
      "metadata": {
        "colab": {
          "base_uri": "https://localhost:8080/"
        },
        "id": "cdT-HgIvX3-3",
        "outputId": "bf2b8729-261f-400d-c789-bb1a3b0b978f"
      },
      "execution_count": null,
      "outputs": [
        {
          "output_type": "execute_result",
          "data": {
            "text/plain": [
              "0.24385496968014964"
            ]
          },
          "metadata": {},
          "execution_count": 18
        }
      ]
    },
    {
      "cell_type": "code",
      "source": [
        "#Teste Mean Absolute Error\n",
        "\n",
        "print('MAE', metrics.mean_absolute_error(a_treinamento, previsor))"
      ],
      "metadata": {
        "colab": {
          "base_uri": "https://localhost:8080/"
        },
        "id": "BUAhNLuaPQPY",
        "outputId": "90d16f27-6f82-4e2b-e4c7-59a58fbbbc3c"
      },
      "execution_count": null,
      "outputs": [
        {
          "output_type": "stream",
          "name": "stdout",
          "text": [
            "MAE 4719249.372703412\n"
          ]
        }
      ]
    },
    {
      "cell_type": "code",
      "source": [
        "#Teste Mean Squared Error\n",
        "\n",
        "print('MSE', metrics.mean_squared_error(a_treinamento, previsor))"
      ],
      "metadata": {
        "colab": {
          "base_uri": "https://localhost:8080/"
        },
        "id": "Jmoif041PXEp",
        "outputId": "6f271bf9-2aa1-48f5-a88c-eef0752e385e"
      },
      "execution_count": null,
      "outputs": [
        {
          "output_type": "stream",
          "name": "stdout",
          "text": [
            "MSE 23349321758186.562\n"
          ]
        }
      ]
    },
    {
      "cell_type": "code",
      "source": [
        "#Teste Root Mean Squared Error\n",
        "\n",
        "print('RMSE', np.sqrt(metrics.mean_squared_error(a_treinamento, previsor)))"
      ],
      "metadata": {
        "colab": {
          "base_uri": "https://localhost:8080/"
        },
        "id": "tZwddpzXPp4B",
        "outputId": "bea49c1e-8169-404b-a6de-f605909a9e09"
      },
      "execution_count": null,
      "outputs": [
        {
          "output_type": "stream",
          "name": "stdout",
          "text": [
            "RMSE 4832113.591192426\n"
          ]
        }
      ]
    },
    {
      "cell_type": "markdown",
      "source": [
        "# **REGRESSÃO LINEAR MÚLTIPLA**"
      ],
      "metadata": {
        "id": "OFcsDkd8hEBP"
      }
    },
    {
      "cell_type": "code",
      "source": [
        "#Definição das variáveis.\n",
        "\n",
        "a_multi = b_casas1.iloc[:, 1:]"
      ],
      "metadata": {
        "id": "pjppGGnVhJ1f"
      },
      "execution_count": null,
      "outputs": []
    },
    {
      "cell_type": "code",
      "source": [
        "b_multi = b_casas1.iloc[:, 0]"
      ],
      "metadata": {
        "id": "CFo8x0Rmhykl"
      },
      "execution_count": null,
      "outputs": []
    },
    {
      "cell_type": "code",
      "source": [
        "#Importando train_test_split para criar modelo de treinamento e de teste com base nos dados.\n",
        "\n",
        "from sklearn.model_selection import train_test_split\n",
        "a_multi_treinamento, a_multi_teste, b_multi_treinamento, b_multi_teste = train_test_split(a_multi, b_multi, test_size=0.3, random_state=101)"
      ],
      "metadata": {
        "id": "1ia40dGciAEr"
      },
      "execution_count": null,
      "outputs": []
    },
    {
      "cell_type": "code",
      "source": [
        "a_multi_treinamento.shape, b_multi_treinamento.shape"
      ],
      "metadata": {
        "colab": {
          "base_uri": "https://localhost:8080/"
        },
        "id": "_-i_IhgHiSKS",
        "outputId": "96bdb4b9-fa2f-44d3-e5af-c6714ab4c348"
      },
      "execution_count": null,
      "outputs": [
        {
          "output_type": "execute_result",
          "data": {
            "text/plain": [
              "((381, 12), (381,))"
            ]
          },
          "metadata": {},
          "execution_count": 50
        }
      ]
    },
    {
      "cell_type": "code",
      "source": [
        "#Aplicando o modelo de regressão linear nos modelos de treinamento/teste\n",
        "\n",
        "from sklearn.linear_model import LinearRegression\n",
        "regressor2 = LinearRegression()\n",
        "regressor2.fit(a_multi_treinamento, b_multi_treinamento)"
      ],
      "metadata": {
        "colab": {
          "base_uri": "https://localhost:8080/"
        },
        "id": "gAPN7UHxiYNK",
        "outputId": "8777d965-18e7-4d83-ea88-115bc5a49271"
      },
      "execution_count": null,
      "outputs": [
        {
          "output_type": "execute_result",
          "data": {
            "text/plain": [
              "LinearRegression()"
            ]
          },
          "metadata": {},
          "execution_count": 51
        }
      ]
    },
    {
      "cell_type": "code",
      "source": [
        "regressor2.intercept_"
      ],
      "metadata": {
        "colab": {
          "base_uri": "https://localhost:8080/"
        },
        "id": "12INJd-YigWP",
        "outputId": "82049658-8508-45f4-80c7-10a4e7994944"
      },
      "execution_count": null,
      "outputs": [
        {
          "output_type": "execute_result",
          "data": {
            "text/plain": [
              "-494914.48183860444"
            ]
          },
          "metadata": {},
          "execution_count": 52
        }
      ]
    },
    {
      "cell_type": "code",
      "source": [
        "regressor2.coef_"
      ],
      "metadata": {
        "colab": {
          "base_uri": "https://localhost:8080/"
        },
        "id": "UJEXR7zXij3i",
        "outputId": "f17f48f7-f020-47df-f0b5-be6c35e14954"
      },
      "execution_count": null,
      "outputs": [
        {
          "output_type": "execute_result",
          "data": {
            "text/plain": [
              "array([2.66058057e+02, 9.49677274e+04, 9.68151650e+05, 4.75641777e+05,\n",
              "       4.51711439e+05, 7.00177573e+04, 4.25129579e+05, 1.00051272e+06,\n",
              "       8.59533303e+05, 2.98057757e+05, 7.20133033e+05, 2.24049825e+05])"
            ]
          },
          "metadata": {},
          "execution_count": 53
        }
      ]
    },
    {
      "cell_type": "code",
      "source": [
        "previsor2 = regressor2.predict(a_multi_treinamento)"
      ],
      "metadata": {
        "id": "4pB0-d8Mizep"
      },
      "execution_count": null,
      "outputs": []
    },
    {
      "cell_type": "code",
      "source": [
        "#Grafico para exemplificar o teste.\n",
        "\n",
        "# Fixing random state for reproducibility\n",
        "np.random.seed(19680801)\n",
        "\n",
        "#x = np.random.rand(10)\n",
        "#y = np.random.rand(10)\n",
        "#z = np.sqrt(x**2 + y**2)\n",
        "\n",
        "fig, axs = plt.subplots(2, 6, figsize=(32, 10), sharex=True, sharey=True)\n",
        "\n",
        "axs[0, 0].scatter(x=a_multi_treinamento['area'], y=previsor2, s=80)\n",
        "axs[0, 0].set_title(\"Area\")\n",
        "\n",
        "axs[0, 1].scatter(x=a_multi_treinamento['bathrooms'], y=previsor2, s=80, vmin=0, vmax=1)\n",
        "axs[0, 1].set_title(r\"bathrooms\")\n",
        "\n",
        "axs[0, 2].scatter(x=a_multi_treinamento['airconditioning'], y=previsor2, s=80)\n",
        "axs[0, 2].set_title(\"Air Conditioning\")\n",
        "\n",
        "axs[0, 3].scatter(x=a_multi_treinamento['basement'], y=previsor2, s=80)\n",
        "axs[0, 3].set_title(\"Basement\")\n",
        "\n",
        "axs[0, 4].scatter(x=a_multi_treinamento['stories'], y=previsor2, s=80)\n",
        "axs[0, 4].set_title(\"Stories\")\n",
        "\n",
        "axs[0, 5].scatter(x=a_multi_treinamento['mainroad'], y=previsor2, s=80)\n",
        "axs[0, 5].set_title(\"Mainroad\")\n",
        "\n",
        "axs[1, 0].scatter(x=a_multi_treinamento['guestroom'], y=previsor2, s=80)\n",
        "axs[1, 0].set_title(\"guestroom\")\n",
        "\n",
        "axs[1, 1].scatter(x=a_multi_treinamento['hotwaterheating'], y=previsor2, s=80)\n",
        "axs[1, 1].set_title(\"hotwaterheating\")\n",
        "\n",
        "axs[1, 2].scatter(x=a_multi_treinamento['bedrooms'], y=previsor2, s=80)\n",
        "axs[1, 2].set_title(\"bedrooms\")\n",
        "\n",
        "axs[1, 3].scatter(x=a_multi_treinamento['parking'], y=previsor2, s=80)\n",
        "axs[1, 3].set_title(\"parking\")\n",
        "\n",
        "axs[1, 4].scatter(x=a_multi_treinamento['prefarea'], y=previsor2, s=80)\n",
        "axs[1, 4].set_title(\"prefarea\")\n",
        "\n",
        "axs[1, 5].scatter(x=a_multi_treinamento['furnishingstatus'], y=previsor2, s=80)\n",
        "axs[1, 5].set_title(\"furnishingstatus\")\n",
        "\n",
        "#plt.tight_layout()\n",
        "plt.show()\n"
      ],
      "metadata": {
        "id": "Il_BOnJ2kkWM",
        "colab": {
          "base_uri": "https://localhost:8080/",
          "height": 392
        },
        "outputId": "42eddaa5-4e6f-4bd0-9d28-c3bcf8735660"
      },
      "execution_count": null,
      "outputs": [
        {
          "output_type": "display_data",
          "data": {
            "text/plain": [
              "<Figure size 2304x720 with 12 Axes>"
            ],
            "image/png": "[encoded data removed]"
          },
          "metadata": {}
        }
      ]
    },
    {
      "cell_type": "code",
      "source": [
        "regressor2.score(a_multi_treinamento, b_multi_treinamento)"
      ],
      "metadata": {
        "colab": {
          "base_uri": "https://localhost:8080/"
        },
        "id": "H3t0an8KilVz",
        "outputId": "0e6eabac-8b98-4eda-8e42-2356c85ef2cf"
      },
      "execution_count": null,
      "outputs": [
        {
          "output_type": "execute_result",
          "data": {
            "text/plain": [
              "0.7012724258638082"
            ]
          },
          "metadata": {},
          "execution_count": 56
        }
      ]
    },
    {
      "cell_type": "code",
      "source": [
        "regressor2.score(a_multi_teste, b_multi_teste)"
      ],
      "metadata": {
        "colab": {
          "base_uri": "https://localhost:8080/"
        },
        "id": "8CCJY3q2iwWO",
        "outputId": "d71763f7-950a-49ae-96b9-0a9f437db5af"
      },
      "execution_count": null,
      "outputs": [
        {
          "output_type": "execute_result",
          "data": {
            "text/plain": [
              "0.607705592937416"
            ]
          },
          "metadata": {},
          "execution_count": 57
        }
      ]
    },
    {
      "cell_type": "code",
      "source": [
        "#Teste Mean Absolute Error\n",
        "print('MAE', metrics.mean_absolute_error(b_multi_treinamento, previsor2))"
      ],
      "metadata": {
        "colab": {
          "base_uri": "https://localhost:8080/"
        },
        "id": "BJA5wuAYQ7t5",
        "outputId": "b60d4424-6e00-4f3b-85a2-44cd76a35101"
      },
      "execution_count": null,
      "outputs": [
        {
          "output_type": "stream",
          "name": "stdout",
          "text": [
            "MAE 771368.3951502625\n"
          ]
        }
      ]
    },
    {
      "cell_type": "code",
      "source": [
        "#Teste Mean Squared Error\n",
        "\n",
        "print('MSE', metrics.mean_squared_error(b_multi_treinamento, previsor2))"
      ],
      "metadata": {
        "colab": {
          "base_uri": "https://localhost:8080/"
        },
        "id": "2uM3dSQ4RqVo",
        "outputId": "67b3f402-804b-49d0-d728-3207794b83fc"
      },
      "execution_count": null,
      "outputs": [
        {
          "output_type": "stream",
          "name": "stdout",
          "text": [
            "MSE 1070860668511.0243\n"
          ]
        }
      ]
    },
    {
      "cell_type": "code",
      "source": [
        "#Teste Root Mean Squared Error\n",
        "\n",
        "print('RMSE', np.sqrt(metrics.mean_squared_error(b_multi_treinamento, previsor2)))"
      ],
      "metadata": {
        "colab": {
          "base_uri": "https://localhost:8080/"
        },
        "id": "Ba9QfftFR1nE",
        "outputId": "debdde96-8752-453d-fe1a-204398406206"
      },
      "execution_count": null,
      "outputs": [
        {
          "output_type": "stream",
          "name": "stdout",
          "text": [
            "RMSE 1034823.9794820297\n"
          ]
        }
      ]
    },
    {
      "cell_type": "markdown",
      "source": [
        "## **CONCLUSÃO**"
      ],
      "metadata": {
        "id": "WqX7S2FHGhOT"
      }
    },
    {
      "cell_type": "markdown",
      "source": [
        "Neste trabalho foi apresentado um conjunto de dados , com informações sobre casas a venda com o intuito de realizar um estudo de regressão linear para predizer o valor de venda de uma casa com base nessas informações.\n",
        "\n",
        "Foi verificada uma correlação acima de 50% entre as colunas price e área, e após aplicarmos a regressão linear simples, e verificar as métricas de erro, pudemos concluir que esse modelo de regressão linear simples não tem uma boa previsão devido ao score baixo de 30% e também devido a correlação baixa.\n",
        "\n",
        "Já pela mesma verificação de correlação das demais colunas com a coluna alvo “price”, observamos que outras variáveis também tinham uma correlação parecida, ou próxima de 50%, nesse caso fizemos a regressão múltipla, usando as 12 colunas restantes, e apesar do score da variável de treinamento ter melhorado significativamente em relação a regressão linear simples, ainda obtivemos um erro de r2 grande em relação ao valore real das casas.  \n",
        "\n",
        "A regressão linear múltipla apresentou scores mais altos comparados a simples - 60% na base de testes e 70% na base de treinamento - indicando que uma maior disposição de dados melhora a porcentagem do algoritmo, sendo possível melhorar ainda mais o resultado com uma base de dados maior e com análise de correlação entre os dados."
      ],
      "metadata": {
        "id": "oCizI4QLGnd3"
      }
    },
    {
      "cell_type": "markdown",
      "source": [
        "Referências e links\n",
        "\n",
        "https://scikit-learn.org/stable/modules/linear_model.html </br>\n",
        "https://seaborn.pydata.org/examples/timeseries_facets.html </br>\n",
        "https://pandas.pydata.org/docs/user_guide/index.html </br>\n",
        "https://matplotlib.org/stable/index.html </br>\n",
        "Curso - Udemy: Machine Learning e Data Science com Python de A a Z -Jones Granatyr </br>\n",
        "Curso - Udemy: Python para Data Science e Machine Learning - Rodrigo Soares Tadewald </br>\n"
      ],
      "metadata": {
        "id": "XrJk42pMKx3H"
      }
    }
  ]
}
